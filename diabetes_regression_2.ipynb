{
  "cells": [
    {
      "cell_type": "code",
      "execution_count": null,
      "id": "bafa41bc",
      "metadata": {
        "id": "bafa41bc"
      },
      "outputs": [],
      "source": [
        "import pandas as pd\n",
        "import numpy as np\n",
        "import torch\n",
        "import torch.nn as nn\n",
        "import torch.optim as optim\n",
        "from torch.utils.data import Dataset, DataLoader, TensorDataset\n",
        "from sklearn.preprocessing import StandardScaler\n",
        "from sklearn.model_selection import train_test_split\n",
        "# Changed metrics for regression\n",
        "from sklearn.metrics import mean_squared_error, mean_absolute_error, r2_score\n",
        "\n",
        "import matplotlib.pyplot as plt\n",
        "from torchsummary import summary\n",
        "import numpy as np"
      ]
    },
    {
      "cell_type": "code",
      "execution_count": null,
      "id": "95c0d737",
      "metadata": {
        "id": "95c0d737"
      },
      "outputs": [],
      "source": [
        "# 데이터셋 인스턴스 생성\n",
        "\n",
        "data = pd.read_csv('https://raw.githubusercontent.com/MyungKyuYi/AI-class/refs/heads/main/diabetes.csv')"
      ]
    },
    {
      "cell_type": "code",
      "execution_count": null,
      "id": "dc5cc004",
      "metadata": {
        "colab": {
          "base_uri": "https://localhost:8080/",
          "height": 206
        },
        "id": "dc5cc004",
        "outputId": "64e2305f-bdcd-4453-e4f2-c5c82a0dbc55"
      },
      "outputs": [
        {
          "output_type": "execute_result",
          "data": {
            "text/plain": [
              "   Pregnancies  Glucose  BloodPressure  SkinThickness  Insulin   BMI  \\\n",
              "0            6      148             72             35        0  33.6   \n",
              "1            1       85             66             29        0  26.6   \n",
              "2            8      183             64              0        0  23.3   \n",
              "3            1       89             66             23       94  28.1   \n",
              "4            0      137             40             35      168  43.1   \n",
              "\n",
              "   DiabetesPedigreeFunction  Age  Outcome  \n",
              "0                     0.627   50        1  \n",
              "1                     0.351   31        0  \n",
              "2                     0.672   32        1  \n",
              "3                     0.167   21        0  \n",
              "4                     2.288   33        1  "
            ],
            "text/html": [
              "\n",
              "  <div id=\"df-f421d7fd-84d3-4820-99de-cf70fe1bcb29\" class=\"colab-df-container\">\n",
              "    <div>\n",
              "<style scoped>\n",
              "    .dataframe tbody tr th:only-of-type {\n",
              "        vertical-align: middle;\n",
              "    }\n",
              "\n",
              "    .dataframe tbody tr th {\n",
              "        vertical-align: top;\n",
              "    }\n",
              "\n",
              "    .dataframe thead th {\n",
              "        text-align: right;\n",
              "    }\n",
              "</style>\n",
              "<table border=\"1\" class=\"dataframe\">\n",
              "  <thead>\n",
              "    <tr style=\"text-align: right;\">\n",
              "      <th></th>\n",
              "      <th>Pregnancies</th>\n",
              "      <th>Glucose</th>\n",
              "      <th>BloodPressure</th>\n",
              "      <th>SkinThickness</th>\n",
              "      <th>Insulin</th>\n",
              "      <th>BMI</th>\n",
              "      <th>DiabetesPedigreeFunction</th>\n",
              "      <th>Age</th>\n",
              "      <th>Outcome</th>\n",
              "    </tr>\n",
              "  </thead>\n",
              "  <tbody>\n",
              "    <tr>\n",
              "      <th>0</th>\n",
              "      <td>6</td>\n",
              "      <td>148</td>\n",
              "      <td>72</td>\n",
              "      <td>35</td>\n",
              "      <td>0</td>\n",
              "      <td>33.6</td>\n",
              "      <td>0.627</td>\n",
              "      <td>50</td>\n",
              "      <td>1</td>\n",
              "    </tr>\n",
              "    <tr>\n",
              "      <th>1</th>\n",
              "      <td>1</td>\n",
              "      <td>85</td>\n",
              "      <td>66</td>\n",
              "      <td>29</td>\n",
              "      <td>0</td>\n",
              "      <td>26.6</td>\n",
              "      <td>0.351</td>\n",
              "      <td>31</td>\n",
              "      <td>0</td>\n",
              "    </tr>\n",
              "    <tr>\n",
              "      <th>2</th>\n",
              "      <td>8</td>\n",
              "      <td>183</td>\n",
              "      <td>64</td>\n",
              "      <td>0</td>\n",
              "      <td>0</td>\n",
              "      <td>23.3</td>\n",
              "      <td>0.672</td>\n",
              "      <td>32</td>\n",
              "      <td>1</td>\n",
              "    </tr>\n",
              "    <tr>\n",
              "      <th>3</th>\n",
              "      <td>1</td>\n",
              "      <td>89</td>\n",
              "      <td>66</td>\n",
              "      <td>23</td>\n",
              "      <td>94</td>\n",
              "      <td>28.1</td>\n",
              "      <td>0.167</td>\n",
              "      <td>21</td>\n",
              "      <td>0</td>\n",
              "    </tr>\n",
              "    <tr>\n",
              "      <th>4</th>\n",
              "      <td>0</td>\n",
              "      <td>137</td>\n",
              "      <td>40</td>\n",
              "      <td>35</td>\n",
              "      <td>168</td>\n",
              "      <td>43.1</td>\n",
              "      <td>2.288</td>\n",
              "      <td>33</td>\n",
              "      <td>1</td>\n",
              "    </tr>\n",
              "  </tbody>\n",
              "</table>\n",
              "</div>\n",
              "    <div class=\"colab-df-buttons\">\n",
              "\n",
              "  <div class=\"colab-df-container\">\n",
              "    <button class=\"colab-df-convert\" onclick=\"convertToInteractive('df-f421d7fd-84d3-4820-99de-cf70fe1bcb29')\"\n",
              "            title=\"Convert this dataframe to an interactive table.\"\n",
              "            style=\"display:none;\">\n",
              "\n",
              "  <svg xmlns=\"http://www.w3.org/2000/svg\" height=\"24px\" viewBox=\"0 -960 960 960\">\n",
              "    <path d=\"M120-120v-720h720v720H120Zm60-500h600v-160H180v160Zm220 220h160v-160H400v160Zm0 220h160v-160H400v160ZM180-400h160v-160H180v160Zm440 0h160v-160H620v160ZM180-180h160v-160H180v160Zm440 0h160v-160H620v160Z\"/>\n",
              "  </svg>\n",
              "    </button>\n",
              "\n",
              "  <style>\n",
              "    .colab-df-container {\n",
              "      display:flex;\n",
              "      gap: 12px;\n",
              "    }\n",
              "\n",
              "    .colab-df-convert {\n",
              "      background-color: #E8F0FE;\n",
              "      border: none;\n",
              "      border-radius: 50%;\n",
              "      cursor: pointer;\n",
              "      display: none;\n",
              "      fill: #1967D2;\n",
              "      height: 32px;\n",
              "      padding: 0 0 0 0;\n",
              "      width: 32px;\n",
              "    }\n",
              "\n",
              "    .colab-df-convert:hover {\n",
              "      background-color: #E2EBFA;\n",
              "      box-shadow: 0px 1px 2px rgba(60, 64, 67, 0.3), 0px 1px 3px 1px rgba(60, 64, 67, 0.15);\n",
              "      fill: #174EA6;\n",
              "    }\n",
              "\n",
              "    .colab-df-buttons div {\n",
              "      margin-bottom: 4px;\n",
              "    }\n",
              "\n",
              "    [theme=dark] .colab-df-convert {\n",
              "      background-color: #3B4455;\n",
              "      fill: #D2E3FC;\n",
              "    }\n",
              "\n",
              "    [theme=dark] .colab-df-convert:hover {\n",
              "      background-color: #434B5C;\n",
              "      box-shadow: 0px 1px 3px 1px rgba(0, 0, 0, 0.15);\n",
              "      filter: drop-shadow(0px 1px 2px rgba(0, 0, 0, 0.3));\n",
              "      fill: #FFFFFF;\n",
              "    }\n",
              "  </style>\n",
              "\n",
              "    <script>\n",
              "      const buttonEl =\n",
              "        document.querySelector('#df-f421d7fd-84d3-4820-99de-cf70fe1bcb29 button.colab-df-convert');\n",
              "      buttonEl.style.display =\n",
              "        google.colab.kernel.accessAllowed ? 'block' : 'none';\n",
              "\n",
              "      async function convertToInteractive(key) {\n",
              "        const element = document.querySelector('#df-f421d7fd-84d3-4820-99de-cf70fe1bcb29');\n",
              "        const dataTable =\n",
              "          await google.colab.kernel.invokeFunction('convertToInteractive',\n",
              "                                                    [key], {});\n",
              "        if (!dataTable) return;\n",
              "\n",
              "        const docLinkHtml = 'Like what you see? Visit the ' +\n",
              "          '<a target=\"_blank\" href=https://colab.research.google.com/notebooks/data_table.ipynb>data table notebook</a>'\n",
              "          + ' to learn more about interactive tables.';\n",
              "        element.innerHTML = '';\n",
              "        dataTable['output_type'] = 'display_data';\n",
              "        await google.colab.output.renderOutput(dataTable, element);\n",
              "        const docLink = document.createElement('div');\n",
              "        docLink.innerHTML = docLinkHtml;\n",
              "        element.appendChild(docLink);\n",
              "      }\n",
              "    </script>\n",
              "  </div>\n",
              "\n",
              "\n",
              "<div id=\"df-9080de16-8c81-4064-8e56-4c9f0019706f\">\n",
              "  <button class=\"colab-df-quickchart\" onclick=\"quickchart('df-9080de16-8c81-4064-8e56-4c9f0019706f')\"\n",
              "            title=\"Suggest charts\"\n",
              "            style=\"display:none;\">\n",
              "\n",
              "<svg xmlns=\"http://www.w3.org/2000/svg\" height=\"24px\"viewBox=\"0 0 24 24\"\n",
              "     width=\"24px\">\n",
              "    <g>\n",
              "        <path d=\"M19 3H5c-1.1 0-2 .9-2 2v14c0 1.1.9 2 2 2h14c1.1 0 2-.9 2-2V5c0-1.1-.9-2-2-2zM9 17H7v-7h2v7zm4 0h-2V7h2v10zm4 0h-2v-4h2v4z\"/>\n",
              "    </g>\n",
              "</svg>\n",
              "  </button>\n",
              "\n",
              "<style>\n",
              "  .colab-df-quickchart {\n",
              "      --bg-color: #E8F0FE;\n",
              "      --fill-color: #1967D2;\n",
              "      --hover-bg-color: #E2EBFA;\n",
              "      --hover-fill-color: #174EA6;\n",
              "      --disabled-fill-color: #AAA;\n",
              "      --disabled-bg-color: #DDD;\n",
              "  }\n",
              "\n",
              "  [theme=dark] .colab-df-quickchart {\n",
              "      --bg-color: #3B4455;\n",
              "      --fill-color: #D2E3FC;\n",
              "      --hover-bg-color: #434B5C;\n",
              "      --hover-fill-color: #FFFFFF;\n",
              "      --disabled-bg-color: #3B4455;\n",
              "      --disabled-fill-color: #666;\n",
              "  }\n",
              "\n",
              "  .colab-df-quickchart {\n",
              "    background-color: var(--bg-color);\n",
              "    border: none;\n",
              "    border-radius: 50%;\n",
              "    cursor: pointer;\n",
              "    display: none;\n",
              "    fill: var(--fill-color);\n",
              "    height: 32px;\n",
              "    padding: 0;\n",
              "    width: 32px;\n",
              "  }\n",
              "\n",
              "  .colab-df-quickchart:hover {\n",
              "    background-color: var(--hover-bg-color);\n",
              "    box-shadow: 0 1px 2px rgba(60, 64, 67, 0.3), 0 1px 3px 1px rgba(60, 64, 67, 0.15);\n",
              "    fill: var(--button-hover-fill-color);\n",
              "  }\n",
              "\n",
              "  .colab-df-quickchart-complete:disabled,\n",
              "  .colab-df-quickchart-complete:disabled:hover {\n",
              "    background-color: var(--disabled-bg-color);\n",
              "    fill: var(--disabled-fill-color);\n",
              "    box-shadow: none;\n",
              "  }\n",
              "\n",
              "  .colab-df-spinner {\n",
              "    border: 2px solid var(--fill-color);\n",
              "    border-color: transparent;\n",
              "    border-bottom-color: var(--fill-color);\n",
              "    animation:\n",
              "      spin 1s steps(1) infinite;\n",
              "  }\n",
              "\n",
              "  @keyframes spin {\n",
              "    0% {\n",
              "      border-color: transparent;\n",
              "      border-bottom-color: var(--fill-color);\n",
              "      border-left-color: var(--fill-color);\n",
              "    }\n",
              "    20% {\n",
              "      border-color: transparent;\n",
              "      border-left-color: var(--fill-color);\n",
              "      border-top-color: var(--fill-color);\n",
              "    }\n",
              "    30% {\n",
              "      border-color: transparent;\n",
              "      border-left-color: var(--fill-color);\n",
              "      border-top-color: var(--fill-color);\n",
              "      border-right-color: var(--fill-color);\n",
              "    }\n",
              "    40% {\n",
              "      border-color: transparent;\n",
              "      border-right-color: var(--fill-color);\n",
              "      border-top-color: var(--fill-color);\n",
              "    }\n",
              "    60% {\n",
              "      border-color: transparent;\n",
              "      border-right-color: var(--fill-color);\n",
              "    }\n",
              "    80% {\n",
              "      border-color: transparent;\n",
              "      border-right-color: var(--fill-color);\n",
              "      border-bottom-color: var(--fill-color);\n",
              "    }\n",
              "    90% {\n",
              "      border-color: transparent;\n",
              "      border-bottom-color: var(--fill-color);\n",
              "    }\n",
              "  }\n",
              "</style>\n",
              "\n",
              "  <script>\n",
              "    async function quickchart(key) {\n",
              "      const quickchartButtonEl =\n",
              "        document.querySelector('#' + key + ' button');\n",
              "      quickchartButtonEl.disabled = true;  // To prevent multiple clicks.\n",
              "      quickchartButtonEl.classList.add('colab-df-spinner');\n",
              "      try {\n",
              "        const charts = await google.colab.kernel.invokeFunction(\n",
              "            'suggestCharts', [key], {});\n",
              "      } catch (error) {\n",
              "        console.error('Error during call to suggestCharts:', error);\n",
              "      }\n",
              "      quickchartButtonEl.classList.remove('colab-df-spinner');\n",
              "      quickchartButtonEl.classList.add('colab-df-quickchart-complete');\n",
              "    }\n",
              "    (() => {\n",
              "      let quickchartButtonEl =\n",
              "        document.querySelector('#df-9080de16-8c81-4064-8e56-4c9f0019706f button');\n",
              "      quickchartButtonEl.style.display =\n",
              "        google.colab.kernel.accessAllowed ? 'block' : 'none';\n",
              "    })();\n",
              "  </script>\n",
              "</div>\n",
              "\n",
              "    </div>\n",
              "  </div>\n"
            ],
            "application/vnd.google.colaboratory.intrinsic+json": {
              "type": "dataframe",
              "variable_name": "data",
              "summary": "{\n  \"name\": \"data\",\n  \"rows\": 768,\n  \"fields\": [\n    {\n      \"column\": \"Pregnancies\",\n      \"properties\": {\n        \"dtype\": \"number\",\n        \"std\": 3,\n        \"min\": 0,\n        \"max\": 17,\n        \"num_unique_values\": 17,\n        \"samples\": [\n          6,\n          1,\n          3\n        ],\n        \"semantic_type\": \"\",\n        \"description\": \"\"\n      }\n    },\n    {\n      \"column\": \"Glucose\",\n      \"properties\": {\n        \"dtype\": \"number\",\n        \"std\": 31,\n        \"min\": 0,\n        \"max\": 199,\n        \"num_unique_values\": 136,\n        \"samples\": [\n          151,\n          101,\n          112\n        ],\n        \"semantic_type\": \"\",\n        \"description\": \"\"\n      }\n    },\n    {\n      \"column\": \"BloodPressure\",\n      \"properties\": {\n        \"dtype\": \"number\",\n        \"std\": 19,\n        \"min\": 0,\n        \"max\": 122,\n        \"num_unique_values\": 47,\n        \"samples\": [\n          86,\n          46,\n          85\n        ],\n        \"semantic_type\": \"\",\n        \"description\": \"\"\n      }\n    },\n    {\n      \"column\": \"SkinThickness\",\n      \"properties\": {\n        \"dtype\": \"number\",\n        \"std\": 15,\n        \"min\": 0,\n        \"max\": 99,\n        \"num_unique_values\": 51,\n        \"samples\": [\n          7,\n          12,\n          48\n        ],\n        \"semantic_type\": \"\",\n        \"description\": \"\"\n      }\n    },\n    {\n      \"column\": \"Insulin\",\n      \"properties\": {\n        \"dtype\": \"number\",\n        \"std\": 115,\n        \"min\": 0,\n        \"max\": 846,\n        \"num_unique_values\": 186,\n        \"samples\": [\n          52,\n          41,\n          183\n        ],\n        \"semantic_type\": \"\",\n        \"description\": \"\"\n      }\n    },\n    {\n      \"column\": \"BMI\",\n      \"properties\": {\n        \"dtype\": \"number\",\n        \"std\": 7.8841603203754405,\n        \"min\": 0.0,\n        \"max\": 67.1,\n        \"num_unique_values\": 248,\n        \"samples\": [\n          19.9,\n          31.0,\n          38.1\n        ],\n        \"semantic_type\": \"\",\n        \"description\": \"\"\n      }\n    },\n    {\n      \"column\": \"DiabetesPedigreeFunction\",\n      \"properties\": {\n        \"dtype\": \"number\",\n        \"std\": 0.33132859501277484,\n        \"min\": 0.078,\n        \"max\": 2.42,\n        \"num_unique_values\": 517,\n        \"samples\": [\n          1.731,\n          0.426,\n          0.138\n        ],\n        \"semantic_type\": \"\",\n        \"description\": \"\"\n      }\n    },\n    {\n      \"column\": \"Age\",\n      \"properties\": {\n        \"dtype\": \"number\",\n        \"std\": 11,\n        \"min\": 21,\n        \"max\": 81,\n        \"num_unique_values\": 52,\n        \"samples\": [\n          60,\n          47,\n          72\n        ],\n        \"semantic_type\": \"\",\n        \"description\": \"\"\n      }\n    },\n    {\n      \"column\": \"Outcome\",\n      \"properties\": {\n        \"dtype\": \"number\",\n        \"std\": 0,\n        \"min\": 0,\n        \"max\": 1,\n        \"num_unique_values\": 2,\n        \"samples\": [\n          0,\n          1\n        ],\n        \"semantic_type\": \"\",\n        \"description\": \"\"\n      }\n    }\n  ]\n}"
            }
          },
          "metadata": {},
          "execution_count": 4
        }
      ],
      "source": [
        "data.head()"
      ]
    },
    {
      "cell_type": "code",
      "execution_count": null,
      "id": "7ce64a6f",
      "metadata": {
        "colab": {
          "base_uri": "https://localhost:8080/",
          "height": 564
        },
        "id": "7ce64a6f",
        "outputId": "5bb60290-6095-4997-8f0e-d5e7eddd39d2"
      },
      "outputs": [
        {
          "output_type": "display_data",
          "data": {
            "text/plain": [
              "<Figure size 800x600 with 1 Axes>"
            ],
            "image/png": "[encoded data removed]"
          },
          "metadata": {}
        }
      ],
      "source": [
        "# Target variable distribution (BMI)\n",
        "fig_size = plt.rcParams[\"figure.figsize\"]\n",
        "fig_size[0] = 8\n",
        "fig_size[1] = 6\n",
        "plt.rcParams[\"figure.figsize\"] = fig_size\n",
        "# Changed plotting to histogram for BMI\n",
        "data.BMI.hist(bins=30, color='lightblue', edgecolor='black')\n",
        "plt.title('BMI Distribution')\n",
        "plt.xlabel('BMI')\n",
        "plt.ylabel('Frequency')\n",
        "plt.show()"
      ]
    },
    {
      "cell_type": "code",
      "execution_count": null,
      "id": "701780b6",
      "metadata": {
        "colab": {
          "base_uri": "https://localhost:8080/"
        },
        "id": "701780b6",
        "outputId": "6194b5b2-c03f-4888-d672-f57679ce08a9"
      },
      "outputs": [
        {
          "output_type": "execute_result",
          "data": {
            "text/plain": [
              "Index(['Pregnancies', 'Glucose', 'BloodPressure', 'SkinThickness', 'Insulin',\n",
              "       'BMI', 'DiabetesPedigreeFunction', 'Age', 'Outcome'],\n",
              "      dtype='object')"
            ]
          },
          "metadata": {},
          "execution_count": 6
        }
      ],
      "source": [
        "data.columns"
      ]
    },
    {
      "cell_type": "code",
      "execution_count": null,
      "id": "6c48cf5c",
      "metadata": {
        "colab": {
          "base_uri": "https://localhost:8080/"
        },
        "id": "6c48cf5c",
        "outputId": "914c4118-beb5-4c26-b2fb-39e8bf140190"
      },
      "outputs": [
        {
          "output_type": "stream",
          "name": "stdout",
          "text": [
            "Feature Columns: ['Pregnancies', 'Glucose', 'BloodPressure', 'SkinThickness', 'Insulin', 'DiabetesPedigreeFunction', 'Age']\n",
            "Target Column: BMI\n"
          ]
        }
      ],
      "source": [
        "# Define feature and target columns for BMI regression\n",
        "target_column = 'BMI'\n",
        "# Exclude Outcome and BMI from features\n",
        "feature_columns = data.columns.drop(['Outcome', 'BMI']).tolist()\n",
        "print(\"Feature Columns:\", feature_columns)\n",
        "print(\"Target Column:\", target_column)"
      ]
    },
    {
      "cell_type": "code",
      "execution_count": null,
      "id": "04e615a1",
      "metadata": {
        "colab": {
          "base_uri": "https://localhost:8080/"
        },
        "id": "04e615a1",
        "outputId": "e8cfbf22-4232-4ce5-b30b-8b7bedc43cf1"
      },
      "outputs": [
        {
          "output_type": "stream",
          "name": "stdout",
          "text": [
            "Diabetes dataset features are numerical. Skipping Label Encoding.\n"
          ]
        }
      ],
      "source": [
        "# Preprocessing - No Label Encoding needed for numerical features\n",
        "print(\"Diabetes dataset features are numerical. Skipping Label Encoding.\")"
      ]
    },
    {
      "cell_type": "code",
      "execution_count": null,
      "id": "58b0a84e",
      "metadata": {
        "colab": {
          "base_uri": "https://localhost:8080/"
        },
        "id": "58b0a84e",
        "outputId": "9648f5e4-0959-4d37-d95b-af160f8e2aa2"
      },
      "outputs": [
        {
          "output_type": "stream",
          "name": "stdout",
          "text": [
            "<class 'pandas.core.frame.DataFrame'>\n",
            "RangeIndex: 768 entries, 0 to 767\n",
            "Data columns (total 9 columns):\n",
            " #   Column                    Non-Null Count  Dtype  \n",
            "---  ------                    --------------  -----  \n",
            " 0   Pregnancies               768 non-null    int64  \n",
            " 1   Glucose                   768 non-null    int64  \n",
            " 2   BloodPressure             768 non-null    int64  \n",
            " 3   SkinThickness             768 non-null    int64  \n",
            " 4   Insulin                   768 non-null    int64  \n",
            " 5   BMI                       768 non-null    float64\n",
            " 6   DiabetesPedigreeFunction  768 non-null    float64\n",
            " 7   Age                       768 non-null    int64  \n",
            " 8   Outcome                   768 non-null    int64  \n",
            "dtypes: float64(2), int64(7)\n",
            "memory usage: 54.1 KB\n"
          ]
        }
      ],
      "source": [
        "# Display data info\n",
        "data.info()"
      ]
    },
    {
      "cell_type": "markdown",
      "id": "dense_prep_markdown",
      "metadata": {
        "id": "dense_prep_markdown"
      },
      "source": [
        "## Data Preparation for Dense Network (Regression)"
      ]
    },
    {
      "cell_type": "code",
      "execution_count": null,
      "id": "84a4a54f",
      "metadata": {
        "id": "84a4a54f"
      },
      "outputs": [],
      "source": [
        "# 데이터와 타겟 분리 (BMI Regression)\n",
        "X = data[feature_columns].values\n",
        "y = data[target_column].values"
      ]
    },
    {
      "cell_type": "code",
      "execution_count": null,
      "id": "644b8da5",
      "metadata": {
        "id": "644b8da5"
      },
      "outputs": [],
      "source": [
        "# Split the dataset into training and test sets first\n",
        "# Removed stratify=y as it's regression\n",
        "X_train_raw, X_test_raw, y_train, y_test = train_test_split(X, y, test_size=0.2, random_state=42)\n",
        "\n",
        "# Standardize the features (Fit on train, transform train and test)\n",
        "scaler = StandardScaler()\n",
        "X_train = scaler.fit_transform(X_train_raw)\n",
        "X_test = scaler.transform(X_test_raw) # Use transform only for test set\n",
        "\n",
        "# Note: Target variable (BMI) is NOT scaled here, but scaling it might improve performance.\n",
        "# If scaling y:\n",
        "# y_scaler = StandardScaler()\n",
        "# y_train = y_scaler.fit_transform(y_train.reshape(-1, 1)).flatten()\n",
        "# y_test = y_scaler.transform(y_test.reshape(-1, 1)).flatten()\n",
        "# Remember to use y_scaler.inverse_transform() for predictions later."
      ]
    },
    {
      "cell_type": "code",
      "execution_count": null,
      "id": "9d25c686",
      "metadata": {
        "colab": {
          "base_uri": "https://localhost:8080/"
        },
        "id": "9d25c686",
        "outputId": "2bf60e00-6f33-4f3a-90df-9fb6ab138a6b"
      },
      "outputs": [
        {
          "output_type": "stream",
          "name": "stdout",
          "text": [
            "Train features shape: (614, 7)\n",
            "Test features shape: (154, 7)\n",
            "Train target shape: (614,)\n",
            "Test target shape: (154,)\n"
          ]
        }
      ],
      "source": [
        "# Print shapes to verify\n",
        "print(\"Train features shape:\", X_train.shape) # Should be (samples, 7)\n",
        "print(\"Test features shape:\", X_test.shape)\n",
        "print(\"Train target shape:\", y_train.shape)\n",
        "print(\"Test target shape:\", y_test.shape)"
      ]
    },
    {
      "cell_type": "code",
      "execution_count": null,
      "id": "c1bf4be5",
      "metadata": {
        "id": "c1bf4be5"
      },
      "outputs": [],
      "source": [
        "# Convert to PyTorch tensors\n",
        "# Features remain float32\n",
        "X_train_tensor = torch.tensor(X_train, dtype=torch.float32)\n",
        "X_test_tensor = torch.tensor(X_test, dtype=torch.float32)\n",
        "\n",
        "# Target needs to be float32 and reshaped for MSELoss\n",
        "y_train_tensor = torch.tensor(y_train, dtype=torch.float32).reshape(-1, 1)\n",
        "y_test_tensor = torch.tensor(y_test, dtype=torch.float32).reshape(-1, 1)"
      ]
    },
    {
      "cell_type": "code",
      "execution_count": null,
      "id": "7c5743a0",
      "metadata": {
        "id": "7c5743a0"
      },
      "outputs": [],
      "source": [
        "# Create DataLoader\n",
        "batch_size = 32\n",
        "train_dataset = TensorDataset(X_train_tensor, y_train_tensor)\n",
        "train_dataloader = DataLoader(train_dataset, batch_size=batch_size, shuffle=True)\n",
        "\n",
        "test_dataset = TensorDataset(X_test_tensor, y_test_tensor)\n",
        "test_dataloader = DataLoader(test_dataset, batch_size=batch_size, shuffle=False)"
      ]
    },
    {
      "cell_type": "code",
      "execution_count": null,
      "id": "b32ba6de",
      "metadata": {
        "colab": {
          "base_uri": "https://localhost:8080/"
        },
        "id": "b32ba6de",
        "outputId": "bb3b3d85-f995-495a-8533-2c6af6adff8a"
      },
      "outputs": [
        {
          "output_type": "stream",
          "name": "stdout",
          "text": [
            "Train features tensor shape: torch.Size([614, 7])\n",
            "Test features tensor shape: torch.Size([154, 7])\n",
            "Train target tensor shape: torch.Size([614, 1])\n",
            "Test target tensor shape: torch.Size([154, 1])\n"
          ]
        }
      ],
      "source": [
        "# Verify tensor shapes\n",
        "print(\"Train features tensor shape:\", X_train_tensor.shape)\n",
        "print(\"Test features tensor shape:\", X_test_tensor.shape)\n",
        "print(\"Train target tensor shape:\", y_train_tensor.shape) # Should be (samples, 1)\n",
        "print(\"Test target tensor shape:\", y_test_tensor.shape)"
      ]
    },
    {
      "cell_type": "markdown",
      "id": "29cb1afb",
      "metadata": {
        "id": "29cb1afb"
      },
      "source": [
        "# 모델 정의 (Dense Network for Regression)"
      ]
    },
    {
      "cell_type": "code",
      "execution_count": null,
      "id": "edf1d642_regression",
      "metadata": {
        "colab": {
          "base_uri": "https://localhost:8080/"
        },
        "id": "edf1d642_regression",
        "outputId": "c66c0277-14fe-4057-bb54-77a1a9b89e4f"
      },
      "outputs": [
        {
          "output_type": "stream",
          "name": "stdout",
          "text": [
            "DiabetesDenseReg(\n",
            "  (layers): Sequential(\n",
            "    (0): Linear(in_features=7, out_features=64, bias=True)\n",
            "    (1): ReLU()\n",
            "    (2): Linear(in_features=64, out_features=32, bias=True)\n",
            "    (3): ReLU()\n",
            "    (4): Linear(in_features=32, out_features=1, bias=True)\n",
            "  )\n",
            ")\n"
          ]
        }
      ],
      "source": [
        "# 모델 정의 (Dense Network - Regression)\n",
        "class DiabetesDenseReg(nn.Module):\n",
        "    def __init__(self):\n",
        "        super(DiabetesDenseReg, self).__init__()\n",
        "        self.layers = nn.Sequential(\n",
        "            nn.Linear(7, 64),  # 7 input features\n",
        "            nn.ReLU(),\n",
        "            nn.Linear(64, 32),\n",
        "            nn.ReLU(),\n",
        "            nn.Linear(32, 1)   # 1 output feature (BMI prediction)\n",
        "        )\n",
        "\n",
        "    def forward(self, x):\n",
        "        x = self.layers(x)\n",
        "        return x\n",
        "\n",
        "# Initialize the model\n",
        "dense_model = DiabetesDenseReg()\n",
        "print(dense_model)"
      ]
    },
    {
      "cell_type": "markdown",
      "id": "9be587e7",
      "metadata": {
        "id": "9be587e7"
      },
      "source": [
        "# 손실 함수 및 최적화 기법 정의 (Regression)"
      ]
    },
    {
      "cell_type": "code",
      "execution_count": null,
      "id": "32ea43f7_regression",
      "metadata": {
        "id": "32ea43f7_regression"
      },
      "outputs": [],
      "source": [
        "# Use MSELoss for regression\n",
        "criterion = nn.MSELoss()\n",
        "optimizer = optim.Adam(dense_model.parameters(), lr=0.001)"
      ]
    },
    {
      "cell_type": "markdown",
      "id": "3d0cbeb0",
      "metadata": {
        "id": "3d0cbeb0"
      },
      "source": [
        "# 모델 학습 (Dense Network for Regression)"
      ]
    },
    {
      "cell_type": "code",
      "execution_count": null,
      "id": "1b022524_regression",
      "metadata": {
        "scrolled": false,
        "colab": {
          "base_uri": "https://localhost:8080/"
        },
        "id": "1b022524_regression",
        "outputId": "252e2f0b-f2ea-4c0b-d325-457c51a92f7a"
      },
      "outputs": [
        {
          "output_type": "stream",
          "name": "stdout",
          "text": [
            "Epoch 10/100, Train Loss: 82.4748, Test Loss: 97.3818\n",
            "Epoch 20/100, Train Loss: 60.9442, Test Loss: 82.8474\n",
            "Epoch 30/100, Train Loss: 51.4922, Test Loss: 77.3069\n",
            "Epoch 40/100, Train Loss: 45.9627, Test Loss: 72.9283\n",
            "Epoch 50/100, Train Loss: 41.9441, Test Loss: 70.5374\n",
            "Epoch 60/100, Train Loss: 38.9174, Test Loss: 67.4144\n",
            "Epoch 70/100, Train Loss: 36.9329, Test Loss: 65.1674\n",
            "Epoch 80/100, Train Loss: 35.3258, Test Loss: 64.2634\n",
            "Epoch 90/100, Train Loss: 34.2424, Test Loss: 63.2359\n",
            "Epoch 100/100, Train Loss: 33.3747, Test Loss: 62.1890\n",
            "Dense Network Regression Training complete.\n"
          ]
        }
      ],
      "source": [
        "# Variables to store loss\n",
        "dense_train_losses = []\n",
        "dense_test_losses = [] # Store test loss as well\n",
        "dense_test_predictions = []\n",
        "dense_test_actuals = []\n",
        "\n",
        "# Training loop\n",
        "num_epochs = 100 # Regression might need more epochs\n",
        "for epoch in range(num_epochs):\n",
        "    dense_model.train()\n",
        "    running_loss = 0.0\n",
        "    for inputs, labels in train_dataloader:\n",
        "        # Zero the parameter gradients\n",
        "        optimizer.zero_grad()\n",
        "\n",
        "        # Forward pass\n",
        "        outputs = dense_model(inputs)\n",
        "        loss = criterion(outputs, labels)\n",
        "\n",
        "        # Backward pass and optimize\n",
        "        loss.backward()\n",
        "        optimizer.step()\n",
        "\n",
        "        running_loss += loss.item() * inputs.size(0)\n",
        "\n",
        "    # Calculate average loss over an epoch\n",
        "    epoch_train_loss = running_loss / len(train_dataloader.dataset)\n",
        "    dense_train_losses.append(epoch_train_loss)\n",
        "\n",
        "    # Evaluate on test data\n",
        "    dense_model.eval()\n",
        "    test_loss = 0.0\n",
        "    epoch_test_preds = []\n",
        "    epoch_test_actuals = []\n",
        "    with torch.no_grad():\n",
        "        for inputs, labels in test_dataloader:\n",
        "            outputs = dense_model(inputs)\n",
        "            loss = criterion(outputs, labels)\n",
        "            test_loss += loss.item() * inputs.size(0)\n",
        "            epoch_test_preds.extend(outputs.cpu().numpy().flatten()) # Flatten predictions\n",
        "            epoch_test_actuals.extend(labels.cpu().numpy().flatten()) # Flatten actuals\n",
        "\n",
        "    epoch_test_loss = test_loss / len(test_dataloader.dataset)\n",
        "    dense_test_losses.append(epoch_test_loss)\n",
        "\n",
        "    # Store predictions/actuals from the *last* epoch for final evaluation\n",
        "    if epoch == num_epochs - 1:\n",
        "        dense_test_predictions = np.array(epoch_test_preds)\n",
        "        dense_test_actuals = np.array(epoch_test_actuals)\n",
        "\n",
        "    if (epoch + 1) % 10 == 0: # Print every 10 epochs\n",
        "      print(f\"Epoch {epoch + 1}/{num_epochs}, Train Loss: {epoch_train_loss:.4f}, Test Loss: {epoch_test_loss:.4f}\")\n",
        "\n",
        "print(\"Dense Network Regression Training complete.\")"
      ]
    },
    {
      "cell_type": "markdown",
      "id": "7ee551f8",
      "metadata": {
        "id": "7ee551f8"
      },
      "source": [
        "# 모델 평가 (Dense Network for Regression)"
      ]
    },
    {
      "cell_type": "code",
      "execution_count": null,
      "id": "8160ffb8_regression",
      "metadata": {
        "colab": {
          "base_uri": "https://localhost:8080/"
        },
        "id": "8160ffb8_regression",
        "outputId": "a6623569-60bf-415b-aa70-f01faf50cd26"
      },
      "outputs": [
        {
          "output_type": "stream",
          "name": "stdout",
          "text": [
            "--- Dense Network Regression Evaluation Results ---\n",
            "Mean Squared Error (MSE): 62.1890\n",
            "Root Mean Squared Error (RMSE): 7.8860\n",
            "Mean Absolute Error (MAE): 5.3749\n",
            "R-squared (R²): 0.1252\n"
          ]
        }
      ],
      "source": [
        "# Evaluation using regression metrics from the last epoch's test predictions\n",
        "mse = mean_squared_error(dense_test_actuals, dense_test_predictions)\n",
        "rmse = np.sqrt(mse)\n",
        "mae = mean_absolute_error(dense_test_actuals, dense_test_predictions)\n",
        "r2 = r2_score(dense_test_actuals, dense_test_predictions)\n",
        "\n",
        "print(\"--- Dense Network Regression Evaluation Results ---\")\n",
        "print(f'Mean Squared Error (MSE): {mse:.4f}')\n",
        "print(f'Root Mean Squared Error (RMSE): {rmse:.4f}')\n",
        "print(f'Mean Absolute Error (MAE): {mae:.4f}')\n",
        "print(f'R-squared (R²): {r2:.4f}')"
      ]
    },
    {
      "cell_type": "code",
      "execution_count": null,
      "id": "263e0aec_regression",
      "metadata": {
        "colab": {
          "base_uri": "https://localhost:8080/",
          "height": 507
        },
        "id": "263e0aec_regression",
        "outputId": "280dd1f8-5d91-45e7-869e-4bef0f5bffeb"
      },
      "outputs": [
        {
          "output_type": "display_data",
          "data": {
            "text/plain": [
              "<Figure size 1200x500 with 2 Axes>"
            ],
            "image/png": "[encoded data removed]"
          },
          "metadata": {}
        }
      ],
      "source": [
        "# Plot the loss for Dense Network Regression\n",
        "plt.figure(figsize=(12, 5))\n",
        "\n",
        "# Plot training and test loss\n",
        "plt.subplot(1, 2, 1)\n",
        "plt.plot(dense_train_losses, label='Training Loss (MSE)')\n",
        "plt.plot(dense_test_losses, label='Test Loss (MSE)')\n",
        "plt.xlabel('Epoch')\n",
        "plt.ylabel('Loss (MSE)')\n",
        "plt.title('Dense Net Loss Over Epochs')\n",
        "plt.legend()\n",
        "\n",
        "# Plot Predicted vs Actual values\n",
        "plt.subplot(1, 2, 2)\n",
        "plt.scatter(dense_test_actuals, dense_test_predictions, alpha=0.5, label='Predictions')\n",
        "plt.plot([min(dense_test_actuals), max(dense_test_actuals)], [min(dense_test_actuals), max(dense_test_actuals)], 'r--', label='Ideal Fit') # Line y=x\n",
        "plt.xlabel('Actual BMI')\n",
        "plt.ylabel('Predicted BMI')\n",
        "plt.title('Dense Net: Predicted vs. Actual BMI')\n",
        "plt.legend()\n",
        "plt.grid(True)\n",
        "\n",
        "plt.tight_layout()\n",
        "plt.show()"
      ]
    },
    {
      "cell_type": "markdown",
      "id": "cnn_prep_markdown",
      "metadata": {
        "id": "cnn_prep_markdown"
      },
      "source": [
        "## Data Preparation for 1D CNN (Regression)"
      ]
    },
    {
      "cell_type": "code",
      "execution_count": null,
      "id": "838a65d3_cnn_reg",
      "metadata": {
        "id": "838a65d3_cnn_reg"
      },
      "outputs": [],
      "source": [
        "# Start again with original data for sequence processing\n",
        "data_cnn = pd.read_csv('https://raw.githubusercontent.com/MyungKyuYi/AI-class/refs/heads/main/diabetes.csv')\n",
        "\n",
        "# 데이터와 타겟 분리 (특성: Outcome, BMI 제외 / 타겟: BMI)\n",
        "X_cnn = data_cnn[feature_columns].values # feature_columns already excludes Outcome & BMI\n",
        "y_cnn = data_cnn[target_column].values"
      ]
    },
    {
      "cell_type": "code",
      "execution_count": null,
      "id": "c9b536d1_cnn_reg",
      "metadata": {
        "id": "c9b536d1_cnn_reg"
      },
      "outputs": [],
      "source": [
        "# Standardize the features (using the whole dataset before splitting for sequence creation)\n",
        "scaler_cnn = StandardScaler()\n",
        "X_cnn_scaled = scaler_cnn.fit_transform(X_cnn)"
      ]
    },
    {
      "cell_type": "code",
      "execution_count": null,
      "id": "115e7879_cnn_reg",
      "metadata": {
        "id": "115e7879_cnn_reg"
      },
      "outputs": [],
      "source": [
        "# Combine scaled features and target for sequence splitting\n",
        "# Target y_cnn must be reshaped before hstack\n",
        "data_array = np.hstack((X_cnn_scaled, y_cnn.reshape(-1, 1)))"
      ]
    },
    {
      "cell_type": "code",
      "execution_count": null,
      "id": "a2421c2f_cnn_reg",
      "metadata": {
        "colab": {
          "base_uri": "https://localhost:8080/"
        },
        "id": "a2421c2f_cnn_reg",
        "outputId": "876c9167-9c9f-4cdc-a1fc-a62f931c3c3a"
      },
      "outputs": [
        {
          "output_type": "stream",
          "name": "stdout",
          "text": [
            "Combined data array shape: (768, 8)\n"
          ]
        }
      ],
      "source": [
        "# Check shape (should be features + 1 target = 7 + 1 = 8 columns)\n",
        "print(\"Combined data array shape:\", data_array.shape)"
      ]
    },
    {
      "cell_type": "code",
      "execution_count": null,
      "id": "8ac76e97_cnn_reg",
      "metadata": {
        "id": "8ac76e97_cnn_reg"
      },
      "outputs": [],
      "source": [
        "# Split sequences function (Modified for regression)\n",
        "def split_sequences_reg(sequences, n_steps):\n",
        "    X, y = list(), list()\n",
        "    n_features = sequences.shape[1] - 1 # Number of features (excluding target)\n",
        "    for i in range(len(sequences)):\n",
        "        end_ix = i + n_steps\n",
        "        if end_ix >= len(sequences): # Ensure target index is within bounds\n",
        "            break\n",
        "        # Input: sequence from i to end_ix (features only, index 0 to n_features-1)\n",
        "        # Output: target BMI at end_ix (the step after the sequence ends, last column index)\n",
        "        seq_x, seq_y = sequences[i:end_ix, :n_features], sequences[end_ix, -1]\n",
        "        X.append(seq_x)\n",
        "        y.append(seq_y)\n",
        "    return np.array(X), np.array(y)\n",
        "\n",
        "# Apply sequence transformation\n",
        "n_steps = 5 # Define sequence length\n",
        "X_seq, y_seq = split_sequences_reg(data_array, n_steps)\n",
        "\n",
        "# Split the SEQUENCED dataset into training and test sets\n",
        "X_train_seq, X_test_seq, y_train_seq, y_test_seq = train_test_split(X_seq, y_seq, test_size=0.2, random_state=42)"
      ]
    },
    {
      "cell_type": "code",
      "execution_count": null,
      "id": "f4b4b83f_cnn_reg",
      "metadata": {
        "colab": {
          "base_uri": "https://localhost:8080/"
        },
        "id": "f4b4b83f_cnn_reg",
        "outputId": "c002fb25-1894-4035-e5e7-7af362fdbf32"
      },
      "outputs": [
        {
          "output_type": "stream",
          "name": "stdout",
          "text": [
            "Sequence Train features shape: (610, 5, 7)\n",
            "Sequence Train target shape: (610,)\n",
            "Sequence Test features shape: (153, 5, 7)\n",
            "Sequence Test target shape: (153,)\n"
          ]
        }
      ],
      "source": [
        "# Print shapes to verify sequenced data\n",
        "print(\"Sequence Train features shape:\", X_train_seq.shape) # (samples, steps, features)\n",
        "print(\"Sequence Train target shape:\", y_train_seq.shape)\n",
        "print(\"Sequence Test features shape:\", X_test_seq.shape)\n",
        "print(\"Sequence Test target shape:\", y_test_seq.shape)"
      ]
    },
    {
      "cell_type": "code",
      "execution_count": null,
      "id": "624607fa_cnn_reg",
      "metadata": {
        "id": "624607fa_cnn_reg"
      },
      "outputs": [],
      "source": [
        "# Convert sequenced data to PyTorch tensors\n",
        "X_train_seq_tensor = torch.tensor(X_train_seq, dtype=torch.float32)\n",
        "X_test_seq_tensor = torch.tensor(X_test_seq, dtype=torch.float32)\n",
        "\n",
        "# Target needs to be float32 and reshaped\n",
        "y_train_seq_tensor = torch.tensor(y_train_seq, dtype=torch.float32).reshape(-1, 1)\n",
        "y_test_seq_tensor = torch.tensor(y_test_seq, dtype=torch.float32).reshape(-1, 1)\n",
        "\n",
        "# Create DataLoader for sequenced data\n",
        "batch_size_cnn = 32\n",
        "train_dataset_seq = TensorDataset(X_train_seq_tensor, y_train_seq_tensor)\n",
        "train_dataloader_seq = DataLoader(train_dataset_seq, batch_size=batch_size_cnn, shuffle=True)\n",
        "\n",
        "test_dataset_seq = TensorDataset(X_test_seq_tensor, y_test_seq_tensor)\n",
        "test_dataloader_seq = DataLoader(test_dataset_seq, batch_size=batch_size_cnn, shuffle=False)"
      ]
    },
    {
      "cell_type": "markdown",
      "id": "cnn_model_def_markdown",
      "metadata": {
        "id": "cnn_model_def_markdown"
      },
      "source": [
        "# 모델 정의 (1D CNN for Regression)"
      ]
    },
    {
      "cell_type": "code",
      "execution_count": null,
      "id": "39c53795_cnn_reg",
      "metadata": {
        "id": "39c53795_cnn_reg"
      },
      "outputs": [],
      "source": [
        "# Define the 1D CNN model for BMI Regression\n",
        "class DiabetesCNNReg(nn.Module):\n",
        "    def __init__(self, n_features=7, n_steps=5, n_outputs=1):\n",
        "        super(DiabetesCNNReg, self).__init__()\n",
        "        self.n_steps = n_steps\n",
        "        self.n_features = n_features\n",
        "\n",
        "        self.features = nn.Sequential(\n",
        "            nn.Conv1d(n_features, 16, kernel_size=3, padding=1), # input channels = n_features\n",
        "            nn.ReLU(),\n",
        "            nn.Conv1d(16, 32, kernel_size=3, padding=1),\n",
        "            nn.ReLU()\n",
        "        )\n",
        "\n",
        "        self.regressor = nn.Sequential(\n",
        "            nn.Linear(32 * n_steps, 64),\n",
        "            nn.ReLU(),\n",
        "            nn.Linear(64, n_outputs) # Output size 1 for regression\n",
        "        )\n",
        "\n",
        "    def forward(self, x):\n",
        "        # Expect input permuted to (batch, features, seq_len) in training loop\n",
        "        x = self.features(x)\n",
        "        x = x.view(x.size(0), -1) # Flatten\n",
        "        x = self.regressor(x)\n",
        "        return x"
      ]
    },
    {
      "cell_type": "code",
      "execution_count": null,
      "id": "9e17eec7_cnn_reg",
      "metadata": {
        "id": "9e17eec7_cnn_reg"
      },
      "outputs": [],
      "source": [
        "# Initialize the CNN model, loss function, and optimizer\n",
        "cnn_model = DiabetesCNNReg(n_features=X_train_seq.shape[2], n_steps=n_steps, n_outputs=1)\n",
        "cnn_criterion = nn.MSELoss()\n",
        "cnn_optimizer = optim.Adam(cnn_model.parameters(), lr=0.001)"
      ]
    },
    {
      "cell_type": "code",
      "execution_count": null,
      "id": "618cf76b_cnn_reg",
      "metadata": {
        "colab": {
          "base_uri": "https://localhost:8080/"
        },
        "id": "618cf76b_cnn_reg",
        "outputId": "34de3f6b-fc98-4143-b50c-a7679e3b513d"
      },
      "outputs": [
        {
          "output_type": "stream",
          "name": "stdout",
          "text": [
            "----------------------------------------------------------------\n",
            "        Layer (type)               Output Shape         Param #\n",
            "================================================================\n",
            "            Conv1d-1                [-1, 16, 5]             352\n",
            "              ReLU-2                [-1, 16, 5]               0\n",
            "            Conv1d-3                [-1, 32, 5]           1,568\n",
            "              ReLU-4                [-1, 32, 5]               0\n",
            "            Linear-5                   [-1, 64]          10,304\n",
            "              ReLU-6                   [-1, 64]               0\n",
            "            Linear-7                    [-1, 1]              65\n",
            "================================================================\n",
            "Total params: 12,289\n",
            "Trainable params: 12,289\n",
            "Non-trainable params: 0\n",
            "----------------------------------------------------------------\n",
            "Input size (MB): 0.00\n",
            "Forward/backward pass size (MB): 0.00\n",
            "Params size (MB): 0.05\n",
            "Estimated Total Size (MB): 0.05\n",
            "----------------------------------------------------------------\n"
          ]
        }
      ],
      "source": [
        "# Print the summary of the CNN model\n",
        "# Input size should be (features, sequence_length)\n",
        "summary(cnn_model, input_size=(X_train_seq.shape[2], n_steps))"
      ]
    },
    {
      "cell_type": "markdown",
      "id": "cnn_training_markdown",
      "metadata": {
        "id": "cnn_training_markdown"
      },
      "source": [
        "# 모델 학습 (1D CNN for Regression)"
      ]
    },
    {
      "cell_type": "code",
      "execution_count": null,
      "id": "b2c1d4af_cnn_reg",
      "metadata": {
        "id": "b2c1d4af_cnn_reg"
      },
      "outputs": [],
      "source": [
        "# Variables to store loss for CNN Regression\n",
        "cnn_train_losses = []\n",
        "cnn_test_losses = []\n",
        "cnn_test_predictions = []\n",
        "cnn_test_actuals = []"
      ]
    },
    {
      "cell_type": "code",
      "execution_count": null,
      "id": "28174255_cnn_reg",
      "metadata": {
        "colab": {
          "base_uri": "https://localhost:8080/"
        },
        "id": "28174255_cnn_reg",
        "outputId": "727a9d82-c253-4056-d7ba-e5fb12717bdc"
      },
      "outputs": [
        {
          "output_type": "stream",
          "name": "stdout",
          "text": [
            "CNN Epoch 10/100, Train Loss: 69.6063, Test Loss: 78.9477\n",
            "CNN Epoch 20/100, Train Loss: 61.4079, Test Loss: 79.7554\n",
            "CNN Epoch 30/100, Train Loss: 58.6027, Test Loss: 80.6722\n",
            "CNN Epoch 40/100, Train Loss: 56.3703, Test Loss: 80.6670\n",
            "CNN Epoch 50/100, Train Loss: 54.1032, Test Loss: 83.8936\n",
            "CNN Epoch 60/100, Train Loss: 52.3016, Test Loss: 83.2169\n",
            "CNN Epoch 70/100, Train Loss: 51.1458, Test Loss: 84.8288\n",
            "CNN Epoch 80/100, Train Loss: 48.8316, Test Loss: 85.4282\n",
            "CNN Epoch 90/100, Train Loss: 45.9559, Test Loss: 87.4851\n",
            "CNN Epoch 100/100, Train Loss: 42.6506, Test Loss: 90.2377\n",
            "CNN Regression Training complete.\n"
          ]
        }
      ],
      "source": [
        "# Training loop for CNN Regression\n",
        "num_epochs_cnn = 100 # Adjust epochs if needed\n",
        "for epoch in range(num_epochs_cnn):\n",
        "    cnn_model.train()\n",
        "    running_loss = 0.0\n",
        "    for inputs, labels in train_dataloader_seq:\n",
        "        # Permute input: (batch, seq_len, features) -> (batch, features, seq_len)\n",
        "        inputs = inputs.permute(0, 2, 1)\n",
        "\n",
        "        # Zero the parameter gradients\n",
        "        cnn_optimizer.zero_grad()\n",
        "\n",
        "        # Forward pass\n",
        "        outputs = cnn_model(inputs)\n",
        "        loss = cnn_criterion(outputs, labels)\n",
        "\n",
        "        # Backward pass and optimize\n",
        "        loss.backward()\n",
        "        cnn_optimizer.step()\n",
        "\n",
        "        running_loss += loss.item() * inputs.size(0)\n",
        "\n",
        "    # Calculate average loss over an epoch\n",
        "    epoch_train_loss = running_loss / len(train_dataloader_seq.dataset)\n",
        "    cnn_train_losses.append(epoch_train_loss)\n",
        "\n",
        "    # Evaluate on test data\n",
        "    cnn_model.eval()\n",
        "    test_loss = 0.0\n",
        "    epoch_test_preds_cnn = []\n",
        "    epoch_test_actuals_cnn = []\n",
        "    with torch.no_grad():\n",
        "        for inputs, labels in test_dataloader_seq:\n",
        "            # Permute input\n",
        "            inputs = inputs.permute(0, 2, 1)\n",
        "\n",
        "            outputs = cnn_model(inputs)\n",
        "            loss = cnn_criterion(outputs, labels)\n",
        "            test_loss += loss.item() * inputs.size(0)\n",
        "            epoch_test_preds_cnn.extend(outputs.cpu().numpy().flatten())\n",
        "            epoch_test_actuals_cnn.extend(labels.cpu().numpy().flatten())\n",
        "\n",
        "    epoch_test_loss = test_loss / len(test_dataloader_seq.dataset)\n",
        "    cnn_test_losses.append(epoch_test_loss)\n",
        "\n",
        "    # Store predictions/actuals from the *last* epoch for final evaluation\n",
        "    if epoch == num_epochs_cnn - 1:\n",
        "        cnn_test_predictions = np.array(epoch_test_preds_cnn)\n",
        "        cnn_test_actuals = np.array(epoch_test_actuals_cnn)\n",
        "\n",
        "    if (epoch + 1) % 10 == 0: # Print every 10 epochs\n",
        "        print(f\"CNN Epoch {epoch + 1}/{num_epochs_cnn}, Train Loss: {epoch_train_loss:.4f}, Test Loss: {epoch_test_loss:.4f}\")\n",
        "\n",
        "print(\"CNN Regression Training complete.\")"
      ]
    },
    {
      "cell_type": "code",
      "source": [
        "cnn_mse = mean_squared_error(cnn_test_actuals, cnn_test_predictions)\n",
        "cnn_rmse = np.sqrt(cnn_mse)\n",
        "cnn_mae = mean_absolute_error(cnn_test_actuals, cnn_test_predictions)\n",
        "cnn_r2 = r2_score(cnn_test_actuals, cnn_test_predictions)\n",
        "\n",
        "# Print metrics for CNN\n",
        "print(\"\\n--- CNN Regression Evaluation Results ---\")\n",
        "print(f'Mean Squared Error (MSE): {cnn_mse:.4f}')\n",
        "print(f'Root Mean Squared Error (RMSE): {cnn_rmse:.4f}')\n",
        "print(f'Mean Absolute Error (MAE): {cnn_mae:.4f}')\n",
        "print(f'R-squared (R²): {cnn_r2:.4f}')\n",
        "\n",
        "# Plot the loss and accuracy for CNN Regression\n",
        "plt.figure(figsize=(12, 5))\n",
        "\n",
        "# Plot loss\n",
        "plt.subplot(1, 2, 1)\n",
        "plt.plot(cnn_train_losses, label='Training Loss (MSE)')\n",
        "plt.plot(cnn_test_losses, label='Test Loss (MSE)')\n",
        "plt.xlabel('Epoch')\n",
        "plt.ylabel('Loss (MSE)')\n",
        "plt.title('CNN Loss Over Epochs')\n",
        "plt.legend()\n",
        "\n",
        "# Plot Predicted vs Actual values\n",
        "plt.subplot(1, 2, 2)\n",
        "plt.scatter(cnn_test_actuals, cnn_test_predictions, alpha=0.5, label='Predictions')\n",
        "plt.plot([min(cnn_test_actuals), max(cnn_test_actuals)], [min(cnn_test_actuals), max(cnn_test_actuals)], 'r--', label='Ideal Fit')\n",
        "plt.xlabel('Actual BMI')\n",
        "plt.ylabel('Predicted BMI')\n",
        "plt.title('CNN: Predicted vs. Actual BMI')\n",
        "plt.legend()\n",
        "plt.grid(True)\n",
        "\n",
        "plt.tight_layout()\n",
        "plt.show()"
      ],
      "metadata": {
        "colab": {
          "base_uri": "https://localhost:8080/",
          "height": 611
        },
        "id": "w2GFNBoHuTRo",
        "outputId": "09e4fc34-c2e7-42db-a0b6-ed8198b0469a"
      },
      "id": "w2GFNBoHuTRo",
      "execution_count": null,
      "outputs": [
        {
          "output_type": "stream",
          "name": "stdout",
          "text": [
            "\n",
            "--- CNN Regression Evaluation Results ---\n",
            "Mean Squared Error (MSE): 90.2377\n",
            "Root Mean Squared Error (RMSE): 9.4994\n",
            "Mean Absolute Error (MAE): 7.2722\n",
            "R-squared (R²): -0.2932\n"
          ]
        },
        {
          "output_type": "display_data",
          "data": {
            "text/plain": [
              "<Figure size 1200x500 with 2 Axes>"
            ],
            "image/png": "[encoded data removed]"
          },
          "metadata": {}
        }
      ]
    }
  ],
  "metadata": {
    "kernelspec": {
      "display_name": "Python 3 (ipykernel)",
      "language": "python",
      "name": "python3"
    },
    "language_info": {
      "codemirror_mode": {
        "name": "ipython",
        "version": 3
      },
      "file_extension": ".py",
      "mimetype": "text/x-python",
      "name": "python",
      "nbconvert_exporter": "python",
      "pygments_lexer": "ipython3",
      "version": "3.8.8"
    },
    "colab": {
      "provenance": [],
      "toc_visible": true
    }
  },
  "nbformat": 4,
  "nbformat_minor": 5
}