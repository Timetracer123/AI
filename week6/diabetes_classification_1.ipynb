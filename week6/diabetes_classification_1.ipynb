{
  "cells": [
    {
      "cell_type": "code",
      "execution_count": null,
      "id": "bafa41bc",
      "metadata": {
        "id": "bafa41bc"
      },
      "outputs": [],
      "source": [
        "import pandas as pd\n",
        "import numpy as np\n",
        "import torch\n",
        "import torch.nn as nn\n",
        "import torch.optim as optim\n",
        "from torch.utils.data import Dataset, DataLoader, TensorDataset\n",
        "from sklearn.preprocessing import StandardScaler\n",
        "from sklearn.model_selection import train_test_split\n",
        "from sklearn.metrics import precision_score, recall_score, f1_score, roc_auc_score, confusion_matrix, ConfusionMatrixDisplay\n",
        "\n",
        "import matplotlib.pyplot as plt\n",
        "from torchsummary import summary\n",
        "import numpy as np"
      ]
    },
    {
      "cell_type": "code",
      "execution_count": null,
      "id": "95c0d737",
      "metadata": {
        "id": "95c0d737"
      },
      "outputs": [],
      "source": [
        "# 데이터셋 인스턴스 생성\n",
        "\n",
        "data = pd.read_csv('https://raw.githubusercontent.com/MyungKyuYi/AI-class/refs/heads/main/diabetes.csv')"
      ]
    },
    {
      "cell_type": "code",
      "execution_count": null,
      "id": "dc5cc004",
      "metadata": {
        "colab": {
          "base_uri": "https://localhost:8080/",
          "height": 206
        },
        "id": "dc5cc004",
        "outputId": "c47bebe8-435c-4290-b64d-05a2c21805bf"
      },
      "outputs": [
        {
          "output_type": "execute_result",
          "data": {
            "text/plain": [
              "   Pregnancies  Glucose  BloodPressure  SkinThickness  Insulin   BMI  \\\n",
              "0            6      148             72             35        0  33.6   \n",
              "1            1       85             66             29        0  26.6   \n",
              "2            8      183             64              0        0  23.3   \n",
              "3            1       89             66             23       94  28.1   \n",
              "4            0      137             40             35      168  43.1   \n",
              "\n",
              "   DiabetesPedigreeFunction  Age  Outcome  \n",
              "0                     0.627   50        1  \n",
              "1                     0.351   31        0  \n",
              "2                     0.672   32        1  \n",
              "3                     0.167   21        0  \n",
              "4                     2.288   33        1  "
            ],
            "text/html": [
              "\n",
              "  <div id=\"df-22951222-6796-4128-b0a5-9e65640ff409\" class=\"colab-df-container\">\n",
              "    <div>\n",
              "<style scoped>\n",
              "    .dataframe tbody tr th:only-of-type {\n",
              "        vertical-align: middle;\n",
              "    }\n",
              "\n",
              "    .dataframe tbody tr th {\n",
              "        vertical-align: top;\n",
              "    }\n",
              "\n",
              "    .dataframe thead th {\n",
              "        text-align: right;\n",
              "    }\n",
              "</style>\n",
              "<table border=\"1\" class=\"dataframe\">\n",
              "  <thead>\n",
              "    <tr style=\"text-align: right;\">\n",
              "      <th></th>\n",
              "      <th>Pregnancies</th>\n",
              "      <th>Glucose</th>\n",
              "      <th>BloodPressure</th>\n",
              "      <th>SkinThickness</th>\n",
              "      <th>Insulin</th>\n",
              "      <th>BMI</th>\n",
              "      <th>DiabetesPedigreeFunction</th>\n",
              "      <th>Age</th>\n",
              "      <th>Outcome</th>\n",
              "    </tr>\n",
              "  </thead>\n",
              "  <tbody>\n",
              "    <tr>\n",
              "      <th>0</th>\n",
              "      <td>6</td>\n",
              "      <td>148</td>\n",
              "      <td>72</td>\n",
              "      <td>35</td>\n",
              "      <td>0</td>\n",
              "      <td>33.6</td>\n",
              "      <td>0.627</td>\n",
              "      <td>50</td>\n",
              "      <td>1</td>\n",
              "    </tr>\n",
              "    <tr>\n",
              "      <th>1</th>\n",
              "      <td>1</td>\n",
              "      <td>85</td>\n",
              "      <td>66</td>\n",
              "      <td>29</td>\n",
              "      <td>0</td>\n",
              "      <td>26.6</td>\n",
              "      <td>0.351</td>\n",
              "      <td>31</td>\n",
              "      <td>0</td>\n",
              "    </tr>\n",
              "    <tr>\n",
              "      <th>2</th>\n",
              "      <td>8</td>\n",
              "      <td>183</td>\n",
              "      <td>64</td>\n",
              "      <td>0</td>\n",
              "      <td>0</td>\n",
              "      <td>23.3</td>\n",
              "      <td>0.672</td>\n",
              "      <td>32</td>\n",
              "      <td>1</td>\n",
              "    </tr>\n",
              "    <tr>\n",
              "      <th>3</th>\n",
              "      <td>1</td>\n",
              "      <td>89</td>\n",
              "      <td>66</td>\n",
              "      <td>23</td>\n",
              "      <td>94</td>\n",
              "      <td>28.1</td>\n",
              "      <td>0.167</td>\n",
              "      <td>21</td>\n",
              "      <td>0</td>\n",
              "    </tr>\n",
              "    <tr>\n",
              "      <th>4</th>\n",
              "      <td>0</td>\n",
              "      <td>137</td>\n",
              "      <td>40</td>\n",
              "      <td>35</td>\n",
              "      <td>168</td>\n",
              "      <td>43.1</td>\n",
              "      <td>2.288</td>\n",
              "      <td>33</td>\n",
              "      <td>1</td>\n",
              "    </tr>\n",
              "  </tbody>\n",
              "</table>\n",
              "</div>\n",
              "    <div class=\"colab-df-buttons\">\n",
              "\n",
              "  <div class=\"colab-df-container\">\n",
              "    <button class=\"colab-df-convert\" onclick=\"convertToInteractive('df-22951222-6796-4128-b0a5-9e65640ff409')\"\n",
              "            title=\"Convert this dataframe to an interactive table.\"\n",
              "            style=\"display:none;\">\n",
              "\n",
              "  <svg xmlns=\"http://www.w3.org/2000/svg\" height=\"24px\" viewBox=\"0 -960 960 960\">\n",
              "    <path d=\"M120-120v-720h720v720H120Zm60-500h600v-160H180v160Zm220 220h160v-160H400v160Zm0 220h160v-160H400v160ZM180-400h160v-160H180v160Zm440 0h160v-160H620v160ZM180-180h160v-160H180v160Zm440 0h160v-160H620v160Z\"/>\n",
              "  </svg>\n",
              "    </button>\n",
              "\n",
              "  <style>\n",
              "    .colab-df-container {\n",
              "      display:flex;\n",
              "      gap: 12px;\n",
              "    }\n",
              "\n",
              "    .colab-df-convert {\n",
              "      background-color: #E8F0FE;\n",
              "      border: none;\n",
              "      border-radius: 50%;\n",
              "      cursor: pointer;\n",
              "      display: none;\n",
              "      fill: #1967D2;\n",
              "      height: 32px;\n",
              "      padding: 0 0 0 0;\n",
              "      width: 32px;\n",
              "    }\n",
              "\n",
              "    .colab-df-convert:hover {\n",
              "      background-color: #E2EBFA;\n",
              "      box-shadow: 0px 1px 2px rgba(60, 64, 67, 0.3), 0px 1px 3px 1px rgba(60, 64, 67, 0.15);\n",
              "      fill: #174EA6;\n",
              "    }\n",
              "\n",
              "    .colab-df-buttons div {\n",
              "      margin-bottom: 4px;\n",
              "    }\n",
              "\n",
              "    [theme=dark] .colab-df-convert {\n",
              "      background-color: #3B4455;\n",
              "      fill: #D2E3FC;\n",
              "    }\n",
              "\n",
              "    [theme=dark] .colab-df-convert:hover {\n",
              "      background-color: #434B5C;\n",
              "      box-shadow: 0px 1px 3px 1px rgba(0, 0, 0, 0.15);\n",
              "      filter: drop-shadow(0px 1px 2px rgba(0, 0, 0, 0.3));\n",
              "      fill: #FFFFFF;\n",
              "    }\n",
              "  </style>\n",
              "\n",
              "    <script>\n",
              "      const buttonEl =\n",
              "        document.querySelector('#df-22951222-6796-4128-b0a5-9e65640ff409 button.colab-df-convert');\n",
              "      buttonEl.style.display =\n",
              "        google.colab.kernel.accessAllowed ? 'block' : 'none';\n",
              "\n",
              "      async function convertToInteractive(key) {\n",
              "        const element = document.querySelector('#df-22951222-6796-4128-b0a5-9e65640ff409');\n",
              "        const dataTable =\n",
              "          await google.colab.kernel.invokeFunction('convertToInteractive',\n",
              "                                                    [key], {});\n",
              "        if (!dataTable) return;\n",
              "\n",
              "        const docLinkHtml = 'Like what you see? Visit the ' +\n",
              "          '<a target=\"_blank\" href=https://colab.research.google.com/notebooks/data_table.ipynb>data table notebook</a>'\n",
              "          + ' to learn more about interactive tables.';\n",
              "        element.innerHTML = '';\n",
              "        dataTable['output_type'] = 'display_data';\n",
              "        await google.colab.output.renderOutput(dataTable, element);\n",
              "        const docLink = document.createElement('div');\n",
              "        docLink.innerHTML = docLinkHtml;\n",
              "        element.appendChild(docLink);\n",
              "      }\n",
              "    </script>\n",
              "  </div>\n",
              "\n",
              "\n",
              "<div id=\"df-81f27119-d317-4908-975f-460f89cd28c8\">\n",
              "  <button class=\"colab-df-quickchart\" onclick=\"quickchart('df-81f27119-d317-4908-975f-460f89cd28c8')\"\n",
              "            title=\"Suggest charts\"\n",
              "            style=\"display:none;\">\n",
              "\n",
              "<svg xmlns=\"http://www.w3.org/2000/svg\" height=\"24px\"viewBox=\"0 0 24 24\"\n",
              "     width=\"24px\">\n",
              "    <g>\n",
              "        <path d=\"M19 3H5c-1.1 0-2 .9-2 2v14c0 1.1.9 2 2 2h14c1.1 0 2-.9 2-2V5c0-1.1-.9-2-2-2zM9 17H7v-7h2v7zm4 0h-2V7h2v10zm4 0h-2v-4h2v4z\"/>\n",
              "    </g>\n",
              "</svg>\n",
              "  </button>\n",
              "\n",
              "<style>\n",
              "  .colab-df-quickchart {\n",
              "      --bg-color: #E8F0FE;\n",
              "      --fill-color: #1967D2;\n",
              "      --hover-bg-color: #E2EBFA;\n",
              "      --hover-fill-color: #174EA6;\n",
              "      --disabled-fill-color: #AAA;\n",
              "      --disabled-bg-color: #DDD;\n",
              "  }\n",
              "\n",
              "  [theme=dark] .colab-df-quickchart {\n",
              "      --bg-color: #3B4455;\n",
              "      --fill-color: #D2E3FC;\n",
              "      --hover-bg-color: #434B5C;\n",
              "      --hover-fill-color: #FFFFFF;\n",
              "      --disabled-bg-color: #3B4455;\n",
              "      --disabled-fill-color: #666;\n",
              "  }\n",
              "\n",
              "  .colab-df-quickchart {\n",
              "    background-color: var(--bg-color);\n",
              "    border: none;\n",
              "    border-radius: 50%;\n",
              "    cursor: pointer;\n",
              "    display: none;\n",
              "    fill: var(--fill-color);\n",
              "    height: 32px;\n",
              "    padding: 0;\n",
              "    width: 32px;\n",
              "  }\n",
              "\n",
              "  .colab-df-quickchart:hover {\n",
              "    background-color: var(--hover-bg-color);\n",
              "    box-shadow: 0 1px 2px rgba(60, 64, 67, 0.3), 0 1px 3px 1px rgba(60, 64, 67, 0.15);\n",
              "    fill: var(--button-hover-fill-color);\n",
              "  }\n",
              "\n",
              "  .colab-df-quickchart-complete:disabled,\n",
              "  .colab-df-quickchart-complete:disabled:hover {\n",
              "    background-color: var(--disabled-bg-color);\n",
              "    fill: var(--disabled-fill-color);\n",
              "    box-shadow: none;\n",
              "  }\n",
              "\n",
              "  .colab-df-spinner {\n",
              "    border: 2px solid var(--fill-color);\n",
              "    border-color: transparent;\n",
              "    border-bottom-color: var(--fill-color);\n",
              "    animation:\n",
              "      spin 1s steps(1) infinite;\n",
              "  }\n",
              "\n",
              "  @keyframes spin {\n",
              "    0% {\n",
              "      border-color: transparent;\n",
              "      border-bottom-color: var(--fill-color);\n",
              "      border-left-color: var(--fill-color);\n",
              "    }\n",
              "    20% {\n",
              "      border-color: transparent;\n",
              "      border-left-color: var(--fill-color);\n",
              "      border-top-color: var(--fill-color);\n",
              "    }\n",
              "    30% {\n",
              "      border-color: transparent;\n",
              "      border-left-color: var(--fill-color);\n",
              "      border-top-color: var(--fill-color);\n",
              "      border-right-color: var(--fill-color);\n",
              "    }\n",
              "    40% {\n",
              "      border-color: transparent;\n",
              "      border-right-color: var(--fill-color);\n",
              "      border-top-color: var(--fill-color);\n",
              "    }\n",
              "    60% {\n",
              "      border-color: transparent;\n",
              "      border-right-color: var(--fill-color);\n",
              "    }\n",
              "    80% {\n",
              "      border-color: transparent;\n",
              "      border-right-color: var(--fill-color);\n",
              "      border-bottom-color: var(--fill-color);\n",
              "    }\n",
              "    90% {\n",
              "      border-color: transparent;\n",
              "      border-bottom-color: var(--fill-color);\n",
              "    }\n",
              "  }\n",
              "</style>\n",
              "\n",
              "  <script>\n",
              "    async function quickchart(key) {\n",
              "      const quickchartButtonEl =\n",
              "        document.querySelector('#' + key + ' button');\n",
              "      quickchartButtonEl.disabled = true;  // To prevent multiple clicks.\n",
              "      quickchartButtonEl.classList.add('colab-df-spinner');\n",
              "      try {\n",
              "        const charts = await google.colab.kernel.invokeFunction(\n",
              "            'suggestCharts', [key], {});\n",
              "      } catch (error) {\n",
              "        console.error('Error during call to suggestCharts:', error);\n",
              "      }\n",
              "      quickchartButtonEl.classList.remove('colab-df-spinner');\n",
              "      quickchartButtonEl.classList.add('colab-df-quickchart-complete');\n",
              "    }\n",
              "    (() => {\n",
              "      let quickchartButtonEl =\n",
              "        document.querySelector('#df-81f27119-d317-4908-975f-460f89cd28c8 button');\n",
              "      quickchartButtonEl.style.display =\n",
              "        google.colab.kernel.accessAllowed ? 'block' : 'none';\n",
              "    })();\n",
              "  </script>\n",
              "</div>\n",
              "\n",
              "    </div>\n",
              "  </div>\n"
            ],
            "application/vnd.google.colaboratory.intrinsic+json": {
              "type": "dataframe",
              "variable_name": "data",
              "summary": "{\n  \"name\": \"data\",\n  \"rows\": 768,\n  \"fields\": [\n    {\n      \"column\": \"Pregnancies\",\n      \"properties\": {\n        \"dtype\": \"number\",\n        \"std\": 3,\n        \"min\": 0,\n        \"max\": 17,\n        \"num_unique_values\": 17,\n        \"samples\": [\n          6,\n          1,\n          3\n        ],\n        \"semantic_type\": \"\",\n        \"description\": \"\"\n      }\n    },\n    {\n      \"column\": \"Glucose\",\n      \"properties\": {\n        \"dtype\": \"number\",\n        \"std\": 31,\n        \"min\": 0,\n        \"max\": 199,\n        \"num_unique_values\": 136,\n        \"samples\": [\n          151,\n          101,\n          112\n        ],\n        \"semantic_type\": \"\",\n        \"description\": \"\"\n      }\n    },\n    {\n      \"column\": \"BloodPressure\",\n      \"properties\": {\n        \"dtype\": \"number\",\n        \"std\": 19,\n        \"min\": 0,\n        \"max\": 122,\n        \"num_unique_values\": 47,\n        \"samples\": [\n          86,\n          46,\n          85\n        ],\n        \"semantic_type\": \"\",\n        \"description\": \"\"\n      }\n    },\n    {\n      \"column\": \"SkinThickness\",\n      \"properties\": {\n        \"dtype\": \"number\",\n        \"std\": 15,\n        \"min\": 0,\n        \"max\": 99,\n        \"num_unique_values\": 51,\n        \"samples\": [\n          7,\n          12,\n          48\n        ],\n        \"semantic_type\": \"\",\n        \"description\": \"\"\n      }\n    },\n    {\n      \"column\": \"Insulin\",\n      \"properties\": {\n        \"dtype\": \"number\",\n        \"std\": 115,\n        \"min\": 0,\n        \"max\": 846,\n        \"num_unique_values\": 186,\n        \"samples\": [\n          52,\n          41,\n          183\n        ],\n        \"semantic_type\": \"\",\n        \"description\": \"\"\n      }\n    },\n    {\n      \"column\": \"BMI\",\n      \"properties\": {\n        \"dtype\": \"number\",\n        \"std\": 7.8841603203754405,\n        \"min\": 0.0,\n        \"max\": 67.1,\n        \"num_unique_values\": 248,\n        \"samples\": [\n          19.9,\n          31.0,\n          38.1\n        ],\n        \"semantic_type\": \"\",\n        \"description\": \"\"\n      }\n    },\n    {\n      \"column\": \"DiabetesPedigreeFunction\",\n      \"properties\": {\n        \"dtype\": \"number\",\n        \"std\": 0.33132859501277484,\n        \"min\": 0.078,\n        \"max\": 2.42,\n        \"num_unique_values\": 517,\n        \"samples\": [\n          1.731,\n          0.426,\n          0.138\n        ],\n        \"semantic_type\": \"\",\n        \"description\": \"\"\n      }\n    },\n    {\n      \"column\": \"Age\",\n      \"properties\": {\n        \"dtype\": \"number\",\n        \"std\": 11,\n        \"min\": 21,\n        \"max\": 81,\n        \"num_unique_values\": 52,\n        \"samples\": [\n          60,\n          47,\n          72\n        ],\n        \"semantic_type\": \"\",\n        \"description\": \"\"\n      }\n    },\n    {\n      \"column\": \"Outcome\",\n      \"properties\": {\n        \"dtype\": \"number\",\n        \"std\": 0,\n        \"min\": 0,\n        \"max\": 1,\n        \"num_unique_values\": 2,\n        \"samples\": [\n          0,\n          1\n        ],\n        \"semantic_type\": \"\",\n        \"description\": \"\"\n      }\n    }\n  ]\n}"
            }
          },
          "metadata": {},
          "execution_count": 3
        }
      ],
      "source": [
        "data.head()"
      ]
    },
    {
      "cell_type": "code",
      "execution_count": null,
      "id": "7ce64a6f",
      "metadata": {
        "colab": {
          "base_uri": "https://localhost:8080/",
          "height": 521
        },
        "id": "7ce64a6f",
        "outputId": "dd10bacf-2802-4e3c-bc59-9257bab8b6a6"
      },
      "outputs": [
        {
          "output_type": "display_data",
          "data": {
            "text/plain": [
              "<Figure size 800x600 with 1 Axes>"
            ],
            "image/png": "[encoded data removed]"
          },
          "metadata": {}
        }
      ],
      "source": [
        "fig_size = plt.rcParams[\"figure.figsize\"]\n",
        "fig_size[0] = 8\n",
        "fig_size[1] = 6\n",
        "plt.rcParams[\"figure.figsize\"] = fig_size\n",
        "data.Outcome.value_counts().plot(kind='pie', autopct='%0.1f%%', colors=['lightblue', 'lightgreen'], explode=(0.05, 0))\n",
        "plt.title('Diabetes Outcome Distribution (0: No, 1: Yes)')\n",
        "plt.ylabel('')\n",
        "plt.show()"
      ]
    },
    {
      "cell_type": "code",
      "execution_count": null,
      "id": "701780b6",
      "metadata": {
        "colab": {
          "base_uri": "https://localhost:8080/"
        },
        "id": "701780b6",
        "outputId": "e482b559-9ee4-40ea-b539-b1e6de8674f0"
      },
      "outputs": [
        {
          "output_type": "execute_result",
          "data": {
            "text/plain": [
              "Index(['Pregnancies', 'Glucose', 'BloodPressure', 'SkinThickness', 'Insulin',\n",
              "       'BMI', 'DiabetesPedigreeFunction', 'Age', 'Outcome'],\n",
              "      dtype='object')"
            ]
          },
          "metadata": {},
          "execution_count": 5
        }
      ],
      "source": [
        "data.columns"
      ]
    },
    {
      "cell_type": "code",
      "execution_count": null,
      "id": "6c48cf5c",
      "metadata": {
        "id": "6c48cf5c"
      },
      "outputs": [],
      "source": [
        "target_column = 'Outcome'\n",
        "feature_columns = data.columns.drop(target_column).tolist()"
      ]
    },
    {
      "cell_type": "code",
      "execution_count": null,
      "id": "58b0a84e",
      "metadata": {
        "colab": {
          "base_uri": "https://localhost:8080/",
          "height": 206
        },
        "id": "58b0a84e",
        "outputId": "5f9f1469-6f32-44a1-b079-fa1a7f7ea0b5"
      },
      "outputs": [
        {
          "output_type": "execute_result",
          "data": {
            "text/plain": [
              "   Pregnancies  Glucose  BloodPressure  SkinThickness  Insulin   BMI  \\\n",
              "0            6      148             72             35        0  33.6   \n",
              "1            1       85             66             29        0  26.6   \n",
              "2            8      183             64              0        0  23.3   \n",
              "3            1       89             66             23       94  28.1   \n",
              "4            0      137             40             35      168  43.1   \n",
              "\n",
              "   DiabetesPedigreeFunction  Age  Outcome  \n",
              "0                     0.627   50        1  \n",
              "1                     0.351   31        0  \n",
              "2                     0.672   32        1  \n",
              "3                     0.167   21        0  \n",
              "4                     2.288   33        1  "
            ],
            "text/html": [
              "\n",
              "  <div id=\"df-e3573a57-0dfb-4998-a73d-caa8d7bd0df9\" class=\"colab-df-container\">\n",
              "    <div>\n",
              "<style scoped>\n",
              "    .dataframe tbody tr th:only-of-type {\n",
              "        vertical-align: middle;\n",
              "    }\n",
              "\n",
              "    .dataframe tbody tr th {\n",
              "        vertical-align: top;\n",
              "    }\n",
              "\n",
              "    .dataframe thead th {\n",
              "        text-align: right;\n",
              "    }\n",
              "</style>\n",
              "<table border=\"1\" class=\"dataframe\">\n",
              "  <thead>\n",
              "    <tr style=\"text-align: right;\">\n",
              "      <th></th>\n",
              "      <th>Pregnancies</th>\n",
              "      <th>Glucose</th>\n",
              "      <th>BloodPressure</th>\n",
              "      <th>SkinThickness</th>\n",
              "      <th>Insulin</th>\n",
              "      <th>BMI</th>\n",
              "      <th>DiabetesPedigreeFunction</th>\n",
              "      <th>Age</th>\n",
              "      <th>Outcome</th>\n",
              "    </tr>\n",
              "  </thead>\n",
              "  <tbody>\n",
              "    <tr>\n",
              "      <th>0</th>\n",
              "      <td>6</td>\n",
              "      <td>148</td>\n",
              "      <td>72</td>\n",
              "      <td>35</td>\n",
              "      <td>0</td>\n",
              "      <td>33.6</td>\n",
              "      <td>0.627</td>\n",
              "      <td>50</td>\n",
              "      <td>1</td>\n",
              "    </tr>\n",
              "    <tr>\n",
              "      <th>1</th>\n",
              "      <td>1</td>\n",
              "      <td>85</td>\n",
              "      <td>66</td>\n",
              "      <td>29</td>\n",
              "      <td>0</td>\n",
              "      <td>26.6</td>\n",
              "      <td>0.351</td>\n",
              "      <td>31</td>\n",
              "      <td>0</td>\n",
              "    </tr>\n",
              "    <tr>\n",
              "      <th>2</th>\n",
              "      <td>8</td>\n",
              "      <td>183</td>\n",
              "      <td>64</td>\n",
              "      <td>0</td>\n",
              "      <td>0</td>\n",
              "      <td>23.3</td>\n",
              "      <td>0.672</td>\n",
              "      <td>32</td>\n",
              "      <td>1</td>\n",
              "    </tr>\n",
              "    <tr>\n",
              "      <th>3</th>\n",
              "      <td>1</td>\n",
              "      <td>89</td>\n",
              "      <td>66</td>\n",
              "      <td>23</td>\n",
              "      <td>94</td>\n",
              "      <td>28.1</td>\n",
              "      <td>0.167</td>\n",
              "      <td>21</td>\n",
              "      <td>0</td>\n",
              "    </tr>\n",
              "    <tr>\n",
              "      <th>4</th>\n",
              "      <td>0</td>\n",
              "      <td>137</td>\n",
              "      <td>40</td>\n",
              "      <td>35</td>\n",
              "      <td>168</td>\n",
              "      <td>43.1</td>\n",
              "      <td>2.288</td>\n",
              "      <td>33</td>\n",
              "      <td>1</td>\n",
              "    </tr>\n",
              "  </tbody>\n",
              "</table>\n",
              "</div>\n",
              "    <div class=\"colab-df-buttons\">\n",
              "\n",
              "  <div class=\"colab-df-container\">\n",
              "    <button class=\"colab-df-convert\" onclick=\"convertToInteractive('df-e3573a57-0dfb-4998-a73d-caa8d7bd0df9')\"\n",
              "            title=\"Convert this dataframe to an interactive table.\"\n",
              "            style=\"display:none;\">\n",
              "\n",
              "  <svg xmlns=\"http://www.w3.org/2000/svg\" height=\"24px\" viewBox=\"0 -960 960 960\">\n",
              "    <path d=\"M120-120v-720h720v720H120Zm60-500h600v-160H180v160Zm220 220h160v-160H400v160Zm0 220h160v-160H400v160ZM180-400h160v-160H180v160Zm440 0h160v-160H620v160ZM180-180h160v-160H180v160Zm440 0h160v-160H620v160Z\"/>\n",
              "  </svg>\n",
              "    </button>\n",
              "\n",
              "  <style>\n",
              "    .colab-df-container {\n",
              "      display:flex;\n",
              "      gap: 12px;\n",
              "    }\n",
              "\n",
              "    .colab-df-convert {\n",
              "      background-color: #E8F0FE;\n",
              "      border: none;\n",
              "      border-radius: 50%;\n",
              "      cursor: pointer;\n",
              "      display: none;\n",
              "      fill: #1967D2;\n",
              "      height: 32px;\n",
              "      padding: 0 0 0 0;\n",
              "      width: 32px;\n",
              "    }\n",
              "\n",
              "    .colab-df-convert:hover {\n",
              "      background-color: #E2EBFA;\n",
              "      box-shadow: 0px 1px 2px rgba(60, 64, 67, 0.3), 0px 1px 3px 1px rgba(60, 64, 67, 0.15);\n",
              "      fill: #174EA6;\n",
              "    }\n",
              "\n",
              "    .colab-df-buttons div {\n",
              "      margin-bottom: 4px;\n",
              "    }\n",
              "\n",
              "    [theme=dark] .colab-df-convert {\n",
              "      background-color: #3B4455;\n",
              "      fill: #D2E3FC;\n",
              "    }\n",
              "\n",
              "    [theme=dark] .colab-df-convert:hover {\n",
              "      background-color: #434B5C;\n",
              "      box-shadow: 0px 1px 3px 1px rgba(0, 0, 0, 0.15);\n",
              "      filter: drop-shadow(0px 1px 2px rgba(0, 0, 0, 0.3));\n",
              "      fill: #FFFFFF;\n",
              "    }\n",
              "  </style>\n",
              "\n",
              "    <script>\n",
              "      const buttonEl =\n",
              "        document.querySelector('#df-e3573a57-0dfb-4998-a73d-caa8d7bd0df9 button.colab-df-convert');\n",
              "      buttonEl.style.display =\n",
              "        google.colab.kernel.accessAllowed ? 'block' : 'none';\n",
              "\n",
              "      async function convertToInteractive(key) {\n",
              "        const element = document.querySelector('#df-e3573a57-0dfb-4998-a73d-caa8d7bd0df9');\n",
              "        const dataTable =\n",
              "          await google.colab.kernel.invokeFunction('convertToInteractive',\n",
              "                                                    [key], {});\n",
              "        if (!dataTable) return;\n",
              "\n",
              "        const docLinkHtml = 'Like what you see? Visit the ' +\n",
              "          '<a target=\"_blank\" href=https://colab.research.google.com/notebooks/data_table.ipynb>data table notebook</a>'\n",
              "          + ' to learn more about interactive tables.';\n",
              "        element.innerHTML = '';\n",
              "        dataTable['output_type'] = 'display_data';\n",
              "        await google.colab.output.renderOutput(dataTable, element);\n",
              "        const docLink = document.createElement('div');\n",
              "        docLink.innerHTML = docLinkHtml;\n",
              "        element.appendChild(docLink);\n",
              "      }\n",
              "    </script>\n",
              "  </div>\n",
              "\n",
              "\n",
              "<div id=\"df-f595641d-a872-4f9b-b6bb-13cdb52fa30b\">\n",
              "  <button class=\"colab-df-quickchart\" onclick=\"quickchart('df-f595641d-a872-4f9b-b6bb-13cdb52fa30b')\"\n",
              "            title=\"Suggest charts\"\n",
              "            style=\"display:none;\">\n",
              "\n",
              "<svg xmlns=\"http://www.w3.org/2000/svg\" height=\"24px\"viewBox=\"0 0 24 24\"\n",
              "     width=\"24px\">\n",
              "    <g>\n",
              "        <path d=\"M19 3H5c-1.1 0-2 .9-2 2v14c0 1.1.9 2 2 2h14c1.1 0 2-.9 2-2V5c0-1.1-.9-2-2-2zM9 17H7v-7h2v7zm4 0h-2V7h2v10zm4 0h-2v-4h2v4z\"/>\n",
              "    </g>\n",
              "</svg>\n",
              "  </button>\n",
              "\n",
              "<style>\n",
              "  .colab-df-quickchart {\n",
              "      --bg-color: #E8F0FE;\n",
              "      --fill-color: #1967D2;\n",
              "      --hover-bg-color: #E2EBFA;\n",
              "      --hover-fill-color: #174EA6;\n",
              "      --disabled-fill-color: #AAA;\n",
              "      --disabled-bg-color: #DDD;\n",
              "  }\n",
              "\n",
              "  [theme=dark] .colab-df-quickchart {\n",
              "      --bg-color: #3B4455;\n",
              "      --fill-color: #D2E3FC;\n",
              "      --hover-bg-color: #434B5C;\n",
              "      --hover-fill-color: #FFFFFF;\n",
              "      --disabled-bg-color: #3B4455;\n",
              "      --disabled-fill-color: #666;\n",
              "  }\n",
              "\n",
              "  .colab-df-quickchart {\n",
              "    background-color: var(--bg-color);\n",
              "    border: none;\n",
              "    border-radius: 50%;\n",
              "    cursor: pointer;\n",
              "    display: none;\n",
              "    fill: var(--fill-color);\n",
              "    height: 32px;\n",
              "    padding: 0;\n",
              "    width: 32px;\n",
              "  }\n",
              "\n",
              "  .colab-df-quickchart:hover {\n",
              "    background-color: var(--hover-bg-color);\n",
              "    box-shadow: 0 1px 2px rgba(60, 64, 67, 0.3), 0 1px 3px 1px rgba(60, 64, 67, 0.15);\n",
              "    fill: var(--button-hover-fill-color);\n",
              "  }\n",
              "\n",
              "  .colab-df-quickchart-complete:disabled,\n",
              "  .colab-df-quickchart-complete:disabled:hover {\n",
              "    background-color: var(--disabled-bg-color);\n",
              "    fill: var(--disabled-fill-color);\n",
              "    box-shadow: none;\n",
              "  }\n",
              "\n",
              "  .colab-df-spinner {\n",
              "    border: 2px solid var(--fill-color);\n",
              "    border-color: transparent;\n",
              "    border-bottom-color: var(--fill-color);\n",
              "    animation:\n",
              "      spin 1s steps(1) infinite;\n",
              "  }\n",
              "\n",
              "  @keyframes spin {\n",
              "    0% {\n",
              "      border-color: transparent;\n",
              "      border-bottom-color: var(--fill-color);\n",
              "      border-left-color: var(--fill-color);\n",
              "    }\n",
              "    20% {\n",
              "      border-color: transparent;\n",
              "      border-left-color: var(--fill-color);\n",
              "      border-top-color: var(--fill-color);\n",
              "    }\n",
              "    30% {\n",
              "      border-color: transparent;\n",
              "      border-left-color: var(--fill-color);\n",
              "      border-top-color: var(--fill-color);\n",
              "      border-right-color: var(--fill-color);\n",
              "    }\n",
              "    40% {\n",
              "      border-color: transparent;\n",
              "      border-right-color: var(--fill-color);\n",
              "      border-top-color: var(--fill-color);\n",
              "    }\n",
              "    60% {\n",
              "      border-color: transparent;\n",
              "      border-right-color: var(--fill-color);\n",
              "    }\n",
              "    80% {\n",
              "      border-color: transparent;\n",
              "      border-right-color: var(--fill-color);\n",
              "      border-bottom-color: var(--fill-color);\n",
              "    }\n",
              "    90% {\n",
              "      border-color: transparent;\n",
              "      border-bottom-color: var(--fill-color);\n",
              "    }\n",
              "  }\n",
              "</style>\n",
              "\n",
              "  <script>\n",
              "    async function quickchart(key) {\n",
              "      const quickchartButtonEl =\n",
              "        document.querySelector('#' + key + ' button');\n",
              "      quickchartButtonEl.disabled = true;  // To prevent multiple clicks.\n",
              "      quickchartButtonEl.classList.add('colab-df-spinner');\n",
              "      try {\n",
              "        const charts = await google.colab.kernel.invokeFunction(\n",
              "            'suggestCharts', [key], {});\n",
              "      } catch (error) {\n",
              "        console.error('Error during call to suggestCharts:', error);\n",
              "      }\n",
              "      quickchartButtonEl.classList.remove('colab-df-spinner');\n",
              "      quickchartButtonEl.classList.add('colab-df-quickchart-complete');\n",
              "    }\n",
              "    (() => {\n",
              "      let quickchartButtonEl =\n",
              "        document.querySelector('#df-f595641d-a872-4f9b-b6bb-13cdb52fa30b button');\n",
              "      quickchartButtonEl.style.display =\n",
              "        google.colab.kernel.accessAllowed ? 'block' : 'none';\n",
              "    })();\n",
              "  </script>\n",
              "</div>\n",
              "\n",
              "    </div>\n",
              "  </div>\n"
            ],
            "application/vnd.google.colaboratory.intrinsic+json": {
              "type": "dataframe",
              "variable_name": "data",
              "summary": "{\n  \"name\": \"data\",\n  \"rows\": 768,\n  \"fields\": [\n    {\n      \"column\": \"Pregnancies\",\n      \"properties\": {\n        \"dtype\": \"number\",\n        \"std\": 3,\n        \"min\": 0,\n        \"max\": 17,\n        \"num_unique_values\": 17,\n        \"samples\": [\n          6,\n          1,\n          3\n        ],\n        \"semantic_type\": \"\",\n        \"description\": \"\"\n      }\n    },\n    {\n      \"column\": \"Glucose\",\n      \"properties\": {\n        \"dtype\": \"number\",\n        \"std\": 31,\n        \"min\": 0,\n        \"max\": 199,\n        \"num_unique_values\": 136,\n        \"samples\": [\n          151,\n          101,\n          112\n        ],\n        \"semantic_type\": \"\",\n        \"description\": \"\"\n      }\n    },\n    {\n      \"column\": \"BloodPressure\",\n      \"properties\": {\n        \"dtype\": \"number\",\n        \"std\": 19,\n        \"min\": 0,\n        \"max\": 122,\n        \"num_unique_values\": 47,\n        \"samples\": [\n          86,\n          46,\n          85\n        ],\n        \"semantic_type\": \"\",\n        \"description\": \"\"\n      }\n    },\n    {\n      \"column\": \"SkinThickness\",\n      \"properties\": {\n        \"dtype\": \"number\",\n        \"std\": 15,\n        \"min\": 0,\n        \"max\": 99,\n        \"num_unique_values\": 51,\n        \"samples\": [\n          7,\n          12,\n          48\n        ],\n        \"semantic_type\": \"\",\n        \"description\": \"\"\n      }\n    },\n    {\n      \"column\": \"Insulin\",\n      \"properties\": {\n        \"dtype\": \"number\",\n        \"std\": 115,\n        \"min\": 0,\n        \"max\": 846,\n        \"num_unique_values\": 186,\n        \"samples\": [\n          52,\n          41,\n          183\n        ],\n        \"semantic_type\": \"\",\n        \"description\": \"\"\n      }\n    },\n    {\n      \"column\": \"BMI\",\n      \"properties\": {\n        \"dtype\": \"number\",\n        \"std\": 7.8841603203754405,\n        \"min\": 0.0,\n        \"max\": 67.1,\n        \"num_unique_values\": 248,\n        \"samples\": [\n          19.9,\n          31.0,\n          38.1\n        ],\n        \"semantic_type\": \"\",\n        \"description\": \"\"\n      }\n    },\n    {\n      \"column\": \"DiabetesPedigreeFunction\",\n      \"properties\": {\n        \"dtype\": \"number\",\n        \"std\": 0.33132859501277484,\n        \"min\": 0.078,\n        \"max\": 2.42,\n        \"num_unique_values\": 517,\n        \"samples\": [\n          1.731,\n          0.426,\n          0.138\n        ],\n        \"semantic_type\": \"\",\n        \"description\": \"\"\n      }\n    },\n    {\n      \"column\": \"Age\",\n      \"properties\": {\n        \"dtype\": \"number\",\n        \"std\": 11,\n        \"min\": 21,\n        \"max\": 81,\n        \"num_unique_values\": 52,\n        \"samples\": [\n          60,\n          47,\n          72\n        ],\n        \"semantic_type\": \"\",\n        \"description\": \"\"\n      }\n    },\n    {\n      \"column\": \"Outcome\",\n      \"properties\": {\n        \"dtype\": \"number\",\n        \"std\": 0,\n        \"min\": 0,\n        \"max\": 1,\n        \"num_unique_values\": 2,\n        \"samples\": [\n          0,\n          1\n        ],\n        \"semantic_type\": \"\",\n        \"description\": \"\"\n      }\n    }\n  ]\n}"
            }
          },
          "metadata": {},
          "execution_count": 7
        }
      ],
      "source": [
        "data.head()"
      ]
    },
    {
      "cell_type": "code",
      "execution_count": null,
      "id": "84a4a54f",
      "metadata": {
        "id": "84a4a54f"
      },
      "outputs": [],
      "source": [
        "# 데이터와 타겟 분리\n",
        "X = data[feature_columns].values\n",
        "y = data[target_column].values"
      ]
    },
    {
      "cell_type": "code",
      "execution_count": null,
      "id": "644b8da5",
      "metadata": {
        "id": "644b8da5"
      },
      "outputs": [],
      "source": [
        "# Split the dataset into training and test sets\n",
        "X_train_raw, X_test_raw, y_train, y_test = train_test_split(X, y, test_size=0.2, random_state=42, stratify=y)\n",
        "\n",
        "# Standardize the data\n",
        "scaler = StandardScaler()\n",
        "X_train = scaler.fit_transform(X_train_raw)\n",
        "X_test = scaler.transform(X_test_raw) # Use transform only for test set"
      ]
    },
    {
      "cell_type": "code",
      "execution_count": null,
      "id": "9d25c686",
      "metadata": {
        "colab": {
          "base_uri": "https://localhost:8080/"
        },
        "id": "9d25c686",
        "outputId": "a1db1e0a-ba7e-4366-8fa5-6179eb99a0d7"
      },
      "outputs": [
        {
          "output_type": "execute_result",
          "data": {
            "text/plain": [
              "((614, 8), (154, 8), (614,), (154,))"
            ]
          },
          "metadata": {},
          "execution_count": 10
        }
      ],
      "source": [
        "X_train.shape, X_test.shape, y_train.shape, y_test.shape"
      ]
    },
    {
      "cell_type": "code",
      "execution_count": null,
      "id": "c1bf4be5",
      "metadata": {
        "id": "c1bf4be5"
      },
      "outputs": [],
      "source": [
        "# Convert to PyTorch tensors\n",
        "X_train = torch.tensor(X_train, dtype=torch.float32)\n",
        "y_train = torch.tensor(y_train, dtype=torch.int64)\n",
        "X_test = torch.tensor(X_test, dtype=torch.float32)\n",
        "y_test = torch.tensor(y_test, dtype=torch.int64)"
      ]
    },
    {
      "cell_type": "code",
      "execution_count": null,
      "id": "7c5743a0",
      "metadata": {
        "id": "7c5743a0"
      },
      "outputs": [],
      "source": [
        "# Create DataLoader\n",
        "batch_size = 32\n",
        "train_dataset = TensorDataset(X_train, y_train)\n",
        "train_dataloader = DataLoader(train_dataset, batch_size=batch_size, shuffle=True)\n",
        "\n",
        "test_dataset = TensorDataset(X_test, y_test)\n",
        "test_dataloader = DataLoader(test_dataset, batch_size=batch_size, shuffle=False)"
      ]
    },
    {
      "cell_type": "code",
      "execution_count": null,
      "id": "b32ba6de",
      "metadata": {
        "colab": {
          "base_uri": "https://localhost:8080/"
        },
        "id": "b32ba6de",
        "outputId": "ef3beab4-0ee9-4fdc-b1ed-7f0851672e97"
      },
      "outputs": [
        {
          "output_type": "execute_result",
          "data": {
            "text/plain": [
              "(torch.Size([614, 8]),\n",
              " torch.Size([154, 8]),\n",
              " torch.Size([614]),\n",
              " torch.Size([154]))"
            ]
          },
          "metadata": {},
          "execution_count": 13
        }
      ],
      "source": [
        "X_train.shape, X_test.shape, y_train.shape, y_test.shape"
      ]
    },
    {
      "cell_type": "markdown",
      "id": "29cb1afb",
      "metadata": {
        "id": "29cb1afb"
      },
      "source": [
        "# 모델 정의"
      ]
    },
    {
      "cell_type": "code",
      "execution_count": null,
      "id": "edf1d642",
      "metadata": {
        "id": "edf1d642"
      },
      "outputs": [],
      "source": [
        "class DiabetesDense(nn.Module):\n",
        "    def __init__(self):\n",
        "        super(DiabetesDense, self).__init__()\n",
        "        self.fc1 = nn.Linear(8, 64)  # 8 input features\n",
        "        self.fc2 = nn.Linear(64, 32)\n",
        "        self.fc3 = nn.Linear(32, 2)  # 2 classes (0 or 1) in the dataset\n",
        "\n",
        "    def forward(self, x):\n",
        "        x = torch.relu(self.fc1(x))\n",
        "        x = torch.relu(self.fc2(x))\n",
        "        x = self.fc3(x) # Output raw scores (logits)\n",
        "        return x\n",
        "\n",
        "# Initialize the model\n",
        "dense_model = DiabetesDense()"
      ]
    },
    {
      "cell_type": "markdown",
      "id": "9be587e7",
      "metadata": {
        "id": "9be587e7"
      },
      "source": [
        "# 손실 함수 및 최적화 기법 정의"
      ]
    },
    {
      "cell_type": "code",
      "execution_count": null,
      "id": "32ea43f7",
      "metadata": {
        "id": "32ea43f7"
      },
      "outputs": [],
      "source": [
        "# classification에 CrossEntropyLoss 사용\n",
        "criterion = nn.CrossEntropyLoss()\n",
        "optimizer = optim.Adam(dense_model.parameters(), lr=0.001)"
      ]
    },
    {
      "cell_type": "markdown",
      "id": "3d0cbeb0",
      "metadata": {
        "id": "3d0cbeb0"
      },
      "source": [
        "# 모델 학습 (Dense Network)"
      ]
    },
    {
      "cell_type": "code",
      "execution_count": null,
      "id": "1b022524",
      "metadata": {
        "scrolled": false,
        "colab": {
          "base_uri": "https://localhost:8080/"
        },
        "id": "1b022524",
        "outputId": "f380374c-2c85-45cf-c758-3d9c27453486"
      },
      "outputs": [
        {
          "output_type": "stream",
          "name": "stdout",
          "text": [
            "Epoch 1/50, Loss: 0.6452, Accuracy: 68.83%\n",
            "Epoch 2/50, Loss: 0.5913, Accuracy: 70.78%\n",
            "Epoch 3/50, Loss: 0.5352, Accuracy: 70.78%\n",
            "Epoch 4/50, Loss: 0.4961, Accuracy: 70.78%\n",
            "Epoch 5/50, Loss: 0.4716, Accuracy: 70.78%\n",
            "Epoch 6/50, Loss: 0.4596, Accuracy: 72.73%\n",
            "Epoch 7/50, Loss: 0.4512, Accuracy: 72.08%\n",
            "Epoch 8/50, Loss: 0.4466, Accuracy: 72.08%\n",
            "Epoch 9/50, Loss: 0.4441, Accuracy: 72.08%\n",
            "Epoch 10/50, Loss: 0.4399, Accuracy: 71.43%\n",
            "Epoch 11/50, Loss: 0.4358, Accuracy: 71.43%\n",
            "Epoch 12/50, Loss: 0.4347, Accuracy: 71.43%\n",
            "Epoch 13/50, Loss: 0.4346, Accuracy: 72.73%\n",
            "Epoch 14/50, Loss: 0.4281, Accuracy: 72.08%\n",
            "Epoch 15/50, Loss: 0.4240, Accuracy: 72.08%\n",
            "Epoch 16/50, Loss: 0.4231, Accuracy: 70.78%\n",
            "Epoch 17/50, Loss: 0.4172, Accuracy: 70.78%\n",
            "Epoch 18/50, Loss: 0.4161, Accuracy: 72.73%\n",
            "Epoch 19/50, Loss: 0.4136, Accuracy: 71.43%\n",
            "Epoch 20/50, Loss: 0.4121, Accuracy: 72.08%\n",
            "Epoch 21/50, Loss: 0.4091, Accuracy: 72.08%\n",
            "Epoch 22/50, Loss: 0.4050, Accuracy: 72.08%\n",
            "Epoch 23/50, Loss: 0.4005, Accuracy: 72.73%\n",
            "Epoch 24/50, Loss: 0.3985, Accuracy: 72.08%\n",
            "Epoch 25/50, Loss: 0.3969, Accuracy: 73.38%\n",
            "Epoch 26/50, Loss: 0.3924, Accuracy: 71.43%\n",
            "Epoch 27/50, Loss: 0.3933, Accuracy: 72.73%\n",
            "Epoch 28/50, Loss: 0.3861, Accuracy: 72.08%\n",
            "Epoch 29/50, Loss: 0.3881, Accuracy: 72.08%\n",
            "Epoch 30/50, Loss: 0.3797, Accuracy: 72.73%\n",
            "Epoch 31/50, Loss: 0.3780, Accuracy: 73.38%\n",
            "Epoch 32/50, Loss: 0.3780, Accuracy: 72.08%\n",
            "Epoch 33/50, Loss: 0.3718, Accuracy: 71.43%\n",
            "Epoch 34/50, Loss: 0.3679, Accuracy: 71.43%\n",
            "Epoch 35/50, Loss: 0.3671, Accuracy: 72.73%\n",
            "Epoch 36/50, Loss: 0.3637, Accuracy: 74.03%\n",
            "Epoch 37/50, Loss: 0.3593, Accuracy: 72.08%\n",
            "Epoch 38/50, Loss: 0.3582, Accuracy: 74.03%\n",
            "Epoch 39/50, Loss: 0.3533, Accuracy: 75.32%\n",
            "Epoch 40/50, Loss: 0.3512, Accuracy: 74.03%\n",
            "Epoch 41/50, Loss: 0.3475, Accuracy: 74.03%\n",
            "Epoch 42/50, Loss: 0.3435, Accuracy: 74.03%\n",
            "Epoch 43/50, Loss: 0.3409, Accuracy: 73.38%\n",
            "Epoch 44/50, Loss: 0.3410, Accuracy: 73.38%\n",
            "Epoch 45/50, Loss: 0.3361, Accuracy: 72.08%\n",
            "Epoch 46/50, Loss: 0.3343, Accuracy: 72.73%\n",
            "Epoch 47/50, Loss: 0.3343, Accuracy: 71.43%\n",
            "Epoch 48/50, Loss: 0.3296, Accuracy: 70.78%\n",
            "Epoch 49/50, Loss: 0.3268, Accuracy: 72.73%\n",
            "Epoch 50/50, Loss: 0.3257, Accuracy: 70.13%\n",
            "Dense Network Training complete.\n"
          ]
        }
      ],
      "source": [
        "# Variables to store loss and accuracy\n",
        "dense_train_losses = []\n",
        "dense_test_accuracies = []\n",
        "dense_all_labels_list = []\n",
        "dense_all_predictions_list = []\n",
        "\n",
        "# Training loop\n",
        "num_epochs = 50\n",
        "for epoch in range(num_epochs):\n",
        "    dense_model.train()\n",
        "    running_loss = 0.0\n",
        "    for inputs, labels in train_dataloader:\n",
        "        # Zero the parameter gradients\n",
        "        optimizer.zero_grad()\n",
        "\n",
        "        # Forward pass\n",
        "        outputs = dense_model(inputs)\n",
        "        loss = criterion(outputs, labels)\n",
        "\n",
        "        # Backward pass and optimize\n",
        "        loss.backward()\n",
        "        optimizer.step()\n",
        "\n",
        "        running_loss += loss.item() * inputs.size(0) # Multiply by batch size\n",
        "\n",
        "    # Calculate average loss over an epoch\n",
        "    epoch_loss = running_loss / len(train_dataloader.dataset)\n",
        "    dense_train_losses.append(epoch_loss)\n",
        "\n",
        "    # Evaluate on test data\n",
        "    dense_model.eval()\n",
        "    correct = 0\n",
        "    total = 0\n",
        "    epoch_labels = []\n",
        "    epoch_predictions = []\n",
        "    with torch.no_grad():\n",
        "        for inputs, labels in test_dataloader:\n",
        "            outputs = dense_model(inputs)\n",
        "            _, predicted = torch.max(outputs.data, 1)\n",
        "            total += labels.size(0)\n",
        "            correct += (predicted == labels).sum().item()\n",
        "            epoch_labels.extend(labels.cpu().numpy())\n",
        "            epoch_predictions.extend(predicted.cpu().numpy())\n",
        "\n",
        "    accuracy = 100 * correct / total\n",
        "    dense_test_accuracies.append(accuracy)\n",
        "    # Store labels/predictions from the *last* epoch for final evaluation\n",
        "    if epoch == num_epochs - 1:\n",
        "        dense_all_labels = np.array(epoch_labels)\n",
        "        dense_all_predictions = np.array(epoch_predictions)\n",
        "\n",
        "    print(f\"Epoch {epoch + 1}/{num_epochs}, Loss: {epoch_loss:.4f}, Accuracy: {accuracy:.2f}%\")\n",
        "\n",
        "print(\"Dense Network Training complete.\")"
      ]
    },
    {
      "cell_type": "markdown",
      "id": "7ee551f8",
      "metadata": {
        "id": "7ee551f8"
      },
      "source": [
        "# 모델 평가 (Dense Network)"
      ]
    },
    {
      "cell_type": "code",
      "execution_count": null,
      "id": "8160ffb8",
      "metadata": {
        "colab": {
          "base_uri": "https://localhost:8080/"
        },
        "id": "8160ffb8",
        "outputId": "4b317db4-faf7-4fe3-b8cc-bca07ca48874"
      },
      "outputs": [
        {
          "output_type": "stream",
          "name": "stdout",
          "text": [
            "Confusion Matrix:\n",
            "[[77 23]\n",
            " [23 31]]\n",
            "F1 Score: 0.70\n",
            "Precision: 0.70\n",
            "Recall (Sensitivity): 0.70\n",
            "Specificity: 0.77\n"
          ]
        }
      ],
      "source": [
        "# Evaluation using metrics from the last epoch\n",
        "conf_matrix = confusion_matrix(dense_all_labels, dense_all_predictions)\n",
        "# Use average='weighted' for overall performance, or 'binary' for class 1 focus\n",
        "f1 = f1_score(dense_all_labels, dense_all_predictions, average='weighted')\n",
        "precision = precision_score(dense_all_labels, dense_all_predictions, average='weighted')\n",
        "recall = recall_score(dense_all_labels, dense_all_predictions, average='weighted')\n",
        "\n",
        "# Calculate specificity (True Negative Rate) for the negative class (0)\n",
        "tn, fp, fn, tp = conf_matrix.ravel()\n",
        "specificity = tn / (tn + fp) if (tn + fp) > 0 else 0 # Specificity for class 0\n",
        "\n",
        "print(f'Confusion Matrix:\\n{conf_matrix}')\n",
        "print(f'F1 Score: {f1:.2f}')\n",
        "print(f'Precision: {precision:.2f}')\n",
        "print(f'Recall (Sensitivity): {recall:.2f}') # Recall is also Sensitivity\n",
        "print(f'Specificity: {specificity:.2f}')"
      ]
    },
    {
      "cell_type": "code",
      "execution_count": null,
      "id": "263e0aec",
      "metadata": {
        "colab": {
          "base_uri": "https://localhost:8080/",
          "height": 1000
        },
        "id": "263e0aec",
        "outputId": "4028aa3e-2be4-46ab-b862-f69519a242c8"
      },
      "outputs": [
        {
          "output_type": "display_data",
          "data": {
            "text/plain": [
              "<Figure size 1200x500 with 2 Axes>"
            ],
            "image/png": "[encoded data removed]"
          },
          "metadata": {}
        },
        {
          "output_type": "display_data",
          "data": {
            "text/plain": [
              "<Figure size 800x600 with 2 Axes>"
            ],
            "image/png": "[encoded data removed]"
          },
          "metadata": {}
        }
      ],
      "source": [
        "# Plot the loss and accuracy for Dense Network\n",
        "plt.figure(figsize=(12, 5))\n",
        "\n",
        "# Plot loss\n",
        "plt.subplot(1, 2, 1)\n",
        "plt.plot(dense_train_losses, label='Training Loss')\n",
        "plt.xlabel('Epoch')\n",
        "plt.ylabel('Loss')\n",
        "plt.title('Dense Net Training Loss Over Epochs')\n",
        "plt.legend()\n",
        "\n",
        "# Plot accuracy\n",
        "plt.subplot(1, 2, 2)\n",
        "plt.plot(dense_test_accuracies, label='Test Accuracy')\n",
        "plt.xlabel('Epoch')\n",
        "plt.ylabel('Accuracy (%)')\n",
        "plt.title('Dense Net Test Accuracy Over Epochs')\n",
        "plt.legend()\n",
        "\n",
        "plt.tight_layout()\n",
        "plt.show()\n",
        "\n",
        "# Display Confusion Matrix\n",
        "disp = ConfusionMatrixDisplay(confusion_matrix=conf_matrix)\n",
        "disp.plot()\n",
        "plt.title('Dense Net Confusion Matrix')\n",
        "plt.show()"
      ]
    },
    {
      "cell_type": "code",
      "execution_count": null,
      "id": "838a65d3",
      "metadata": {
        "id": "838a65d3"
      },
      "outputs": [],
      "source": [
        "# 데이터와 타겟 분리\n",
        "X = data[feature_columns].values\n",
        "y = data[target_column].values"
      ]
    },
    {
      "cell_type": "code",
      "execution_count": null,
      "id": "c9b536d1",
      "metadata": {
        "id": "c9b536d1"
      },
      "outputs": [],
      "source": [
        "# Standardize the features (using the whole dataset before splitting for sequence creation)\n",
        "scaler_cnn = StandardScaler()\n",
        "X_cnn_scaled = scaler_cnn.fit_transform(X)"
      ]
    },
    {
      "cell_type": "code",
      "execution_count": null,
      "id": "115e7879",
      "metadata": {
        "id": "115e7879"
      },
      "outputs": [],
      "source": [
        "# Combine scaled features and target for sequence splitting\n",
        "data_array = np.hstack((X_cnn_scaled, y.reshape(-1, 1)))"
      ]
    },
    {
      "cell_type": "code",
      "execution_count": null,
      "id": "a2421c2f",
      "metadata": {
        "colab": {
          "base_uri": "https://localhost:8080/"
        },
        "id": "a2421c2f",
        "outputId": "51168d14-d053-4111-c20a-07c4c97f3f48"
      },
      "outputs": [
        {
          "output_type": "execute_result",
          "data": {
            "text/plain": [
              "(768, 9)"
            ]
          },
          "metadata": {},
          "execution_count": 22
        }
      ],
      "source": [
        "data_array.shape"
      ]
    },
    {
      "cell_type": "code",
      "execution_count": null,
      "id": "8ac76e97",
      "metadata": {
        "id": "8ac76e97"
      },
      "outputs": [],
      "source": [
        "# Split sequences function\n",
        "def split_sequences(sequences, n_steps):\n",
        "    X, y = list(), list()\n",
        "    for i in range(len(sequences)):\n",
        "        end_ix = i + n_steps\n",
        "        if end_ix > len(sequences)-1:\n",
        "            break\n",
        "        seq_x, seq_y = sequences[i:end_ix, :-1], sequences[end_ix, -1]\n",
        "        X.append(seq_x)\n",
        "        y.append(seq_y)\n",
        "    return np.array(X), np.array(y)\n",
        "\n",
        "# Apply sequence transformation\n",
        "n_steps = 5\n",
        "X, y = split_sequences(data_array, n_steps)\n",
        "\n",
        "# Split the SEQUENCED dataset into training and test sets\n",
        "X_train, X_test, y_train, y_test = train_test_split(X, y, test_size=0.2, random_state=42, stratify=y)"
      ]
    },
    {
      "cell_type": "code",
      "execution_count": null,
      "id": "f4b4b83f",
      "metadata": {
        "colab": {
          "base_uri": "https://localhost:8080/"
        },
        "id": "f4b4b83f",
        "outputId": "826070c8-083c-46b1-ca65-225228e36c44"
      },
      "outputs": [
        {
          "output_type": "execute_result",
          "data": {
            "text/plain": [
              "((610, 5, 8), (610,), (153, 5, 8), (153,))"
            ]
          },
          "metadata": {},
          "execution_count": 24
        }
      ],
      "source": [
        "X_train.shape, y_train.shape, X_test.shape, y_test.shape"
      ]
    },
    {
      "cell_type": "code",
      "execution_count": null,
      "id": "624607fa",
      "metadata": {
        "id": "624607fa"
      },
      "outputs": [],
      "source": [
        "# Convert sequenced data to PyTorch tensors\n",
        "X_train = torch.tensor(X_train, dtype=torch.float32)\n",
        "y_train = torch.tensor(y_train, dtype=torch.int64) # Use Long type\n",
        "X_test = torch.tensor(X_test, dtype=torch.float32)\n",
        "y_test = torch.tensor(y_test, dtype=torch.int64)\n",
        "\n",
        "# Create DataLoader for sequenced data\n",
        "batch_size_cnn = 32\n",
        "train_dataset = TensorDataset(X_train, y_train)\n",
        "train_dataloader = DataLoader(train_dataset, batch_size=batch_size_cnn, shuffle=True)\n",
        "\n",
        "test_dataset = TensorDataset(X_test, y_test)\n",
        "test_dataloader = DataLoader(test_dataset, batch_size=batch_size_cnn, shuffle=False)"
      ]
    },
    {
      "cell_type": "code",
      "execution_count": null,
      "id": "39c53795",
      "metadata": {
        "id": "39c53795"
      },
      "outputs": [],
      "source": [
        "# Define the 1D CNN model\n",
        "class DiabetesCNN(nn.Module):\n",
        "    def __init__(self, n_features=8, n_steps=5, n_classes=2):\n",
        "        super(DiabetesCNN, self).__init__()\n",
        "        self.n_steps = n_steps\n",
        "        # Define Conv and Linear layers only\n",
        "        self.conv1 = nn.Conv1d(n_features, 16, kernel_size=3, padding=1)\n",
        "        # Shape after conv1: (batch, 16, steps)\n",
        "        self.conv2 = nn.Conv1d(16, 32, kernel_size=3, padding=1)\n",
        "        # Shape after conv2: (batch, 32, steps)\n",
        "        # Flatten the output for the linear layer\n",
        "        self.fc1 = nn.Linear(32 * n_steps, 64)\n",
        "        self.fc2 = nn.Linear(64, n_classes)  # 2 classes\n",
        "\n",
        "    def forward(self, x):\n",
        "        # Apply ReLU functionally after each layer (except the last one)\n",
        "        x = torch.relu(self.conv1(x))\n",
        "        x = torch.relu(self.conv2(x))\n",
        "        # Flatten\n",
        "        x = x.view(x.size(0), -1)\n",
        "        # Apply ReLU after fc1\n",
        "        x = torch.relu(self.fc1(x))\n",
        "        # Final output layer (logits)\n",
        "        x = self.fc2(x)\n",
        "        return x"
      ]
    },
    {
      "cell_type": "code",
      "execution_count": null,
      "id": "9e17eec7",
      "metadata": {
        "id": "9e17eec7"
      },
      "outputs": [],
      "source": [
        "# Initialize the CNN model, loss function, and optimizer\n",
        "cnn_model = DiabetesCNN(n_features=X_train.shape[2], n_steps=n_steps, n_classes=2)\n",
        "cnn_criterion = nn.CrossEntropyLoss()\n",
        "cnn_optimizer = optim.Adam(cnn_model.parameters(), lr=0.001)"
      ]
    },
    {
      "cell_type": "code",
      "execution_count": null,
      "id": "618cf76b",
      "metadata": {
        "colab": {
          "base_uri": "https://localhost:8080/"
        },
        "id": "618cf76b",
        "outputId": "0bd0afb4-eee2-43ef-9735-b28330972ecf"
      },
      "outputs": [
        {
          "output_type": "stream",
          "name": "stdout",
          "text": [
            "----------------------------------------------------------------\n",
            "        Layer (type)               Output Shape         Param #\n",
            "================================================================\n",
            "            Conv1d-1                [-1, 16, 5]             400\n",
            "            Conv1d-2                [-1, 32, 5]           1,568\n",
            "            Linear-3                   [-1, 64]          10,304\n",
            "            Linear-4                    [-1, 2]             130\n",
            "================================================================\n",
            "Total params: 12,402\n",
            "Trainable params: 12,402\n",
            "Non-trainable params: 0\n",
            "----------------------------------------------------------------\n",
            "Input size (MB): 0.00\n",
            "Forward/backward pass size (MB): 0.00\n",
            "Params size (MB): 0.05\n",
            "Estimated Total Size (MB): 0.05\n",
            "----------------------------------------------------------------\n"
          ]
        }
      ],
      "source": [
        "# Print the summary of the CNN model\n",
        "# Input size should be (features, sequence_length)\n",
        "summary(cnn_model, input_size=(X_train.shape[2], n_steps))"
      ]
    },
    {
      "cell_type": "markdown",
      "id": "cnn_training_markdown",
      "metadata": {
        "id": "cnn_training_markdown"
      },
      "source": [
        "# 모델 학습 (1D CNN)"
      ]
    },
    {
      "cell_type": "code",
      "execution_count": null,
      "id": "b2c1d4af",
      "metadata": {
        "id": "b2c1d4af"
      },
      "outputs": [],
      "source": [
        "# Variables to store loss and accuracy for CNN\n",
        "cnn_train_losses = []\n",
        "cnn_test_accuracies = []\n",
        "cnn_all_labels = []\n",
        "cnn_all_predictions = []"
      ]
    },
    {
      "cell_type": "code",
      "execution_count": null,
      "id": "28174255",
      "metadata": {
        "colab": {
          "base_uri": "https://localhost:8080/"
        },
        "id": "28174255",
        "outputId": "e6b26d6d-d720-4ccb-9c75-eecb831e760e"
      },
      "outputs": [
        {
          "output_type": "stream",
          "name": "stdout",
          "text": [
            "CNN Epoch 1/50, Loss: 0.6575, Accuracy: 65.36%\n",
            "CNN Epoch 2/50, Loss: 0.6520, Accuracy: 65.36%\n",
            "CNN Epoch 3/50, Loss: 0.6419, Accuracy: 65.36%\n",
            "CNN Epoch 4/50, Loss: 0.6379, Accuracy: 65.36%\n",
            "CNN Epoch 5/50, Loss: 0.6312, Accuracy: 65.36%\n",
            "CNN Epoch 6/50, Loss: 0.6251, Accuracy: 65.36%\n",
            "CNN Epoch 7/50, Loss: 0.6160, Accuracy: 65.36%\n",
            "CNN Epoch 8/50, Loss: 0.6035, Accuracy: 64.71%\n",
            "CNN Epoch 9/50, Loss: 0.5948, Accuracy: 54.90%\n",
            "CNN Epoch 10/50, Loss: 0.5704, Accuracy: 64.05%\n",
            "CNN Epoch 11/50, Loss: 0.5485, Accuracy: 54.90%\n",
            "CNN Epoch 12/50, Loss: 0.5257, Accuracy: 59.48%\n",
            "CNN Epoch 13/50, Loss: 0.5044, Accuracy: 54.90%\n",
            "CNN Epoch 14/50, Loss: 0.4843, Accuracy: 53.59%\n",
            "CNN Epoch 15/50, Loss: 0.4692, Accuracy: 54.90%\n",
            "CNN Epoch 16/50, Loss: 0.4469, Accuracy: 56.86%\n",
            "CNN Epoch 17/50, Loss: 0.4173, Accuracy: 55.56%\n",
            "CNN Epoch 18/50, Loss: 0.4006, Accuracy: 50.98%\n",
            "CNN Epoch 19/50, Loss: 0.3822, Accuracy: 50.33%\n",
            "CNN Epoch 20/50, Loss: 0.3558, Accuracy: 52.94%\n",
            "CNN Epoch 21/50, Loss: 0.3285, Accuracy: 50.98%\n",
            "CNN Epoch 22/50, Loss: 0.3083, Accuracy: 47.71%\n",
            "CNN Epoch 23/50, Loss: 0.3183, Accuracy: 52.29%\n",
            "CNN Epoch 24/50, Loss: 0.3054, Accuracy: 53.59%\n",
            "CNN Epoch 25/50, Loss: 0.2558, Accuracy: 52.94%\n",
            "CNN Epoch 26/50, Loss: 0.2285, Accuracy: 49.02%\n",
            "CNN Epoch 27/50, Loss: 0.2294, Accuracy: 49.02%\n",
            "CNN Epoch 28/50, Loss: 0.1890, Accuracy: 49.67%\n",
            "CNN Epoch 29/50, Loss: 0.1704, Accuracy: 50.98%\n",
            "CNN Epoch 30/50, Loss: 0.1622, Accuracy: 48.37%\n",
            "CNN Epoch 31/50, Loss: 0.1479, Accuracy: 49.67%\n",
            "CNN Epoch 32/50, Loss: 0.1293, Accuracy: 50.33%\n",
            "CNN Epoch 33/50, Loss: 0.1112, Accuracy: 51.63%\n",
            "CNN Epoch 34/50, Loss: 0.1108, Accuracy: 47.71%\n",
            "CNN Epoch 35/50, Loss: 0.1021, Accuracy: 49.02%\n",
            "CNN Epoch 36/50, Loss: 0.0908, Accuracy: 48.37%\n",
            "CNN Epoch 37/50, Loss: 0.0725, Accuracy: 48.37%\n",
            "CNN Epoch 38/50, Loss: 0.0727, Accuracy: 49.67%\n",
            "CNN Epoch 39/50, Loss: 0.0951, Accuracy: 50.33%\n",
            "CNN Epoch 40/50, Loss: 0.0723, Accuracy: 45.75%\n",
            "CNN Epoch 41/50, Loss: 0.0549, Accuracy: 47.71%\n",
            "CNN Epoch 42/50, Loss: 0.0438, Accuracy: 48.37%\n",
            "CNN Epoch 43/50, Loss: 0.0384, Accuracy: 47.06%\n",
            "CNN Epoch 44/50, Loss: 0.0331, Accuracy: 48.37%\n",
            "CNN Epoch 45/50, Loss: 0.0296, Accuracy: 48.37%\n",
            "CNN Epoch 46/50, Loss: 0.0264, Accuracy: 48.37%\n",
            "CNN Epoch 47/50, Loss: 0.0240, Accuracy: 46.41%\n",
            "CNN Epoch 48/50, Loss: 0.0231, Accuracy: 48.37%\n",
            "CNN Epoch 49/50, Loss: 0.0234, Accuracy: 48.37%\n",
            "CNN Epoch 50/50, Loss: 0.0193, Accuracy: 46.41%\n",
            "CNN Training complete.\n"
          ]
        }
      ],
      "source": [
        "# Training loop for CNN\n",
        "num_epochs_cnn = 50 # Can adjust epochs for CNN\n",
        "for epoch in range(num_epochs_cnn):\n",
        "    cnn_model.train()\n",
        "    running_loss = 0.0\n",
        "    for inputs, labels in train_dataloader:\n",
        "        inputs = inputs.permute(0, 2, 1)\n",
        "\n",
        "        # Zero the parameter gradients\n",
        "        cnn_optimizer.zero_grad()\n",
        "\n",
        "        # Forward pass\n",
        "        outputs = cnn_model(inputs)\n",
        "        loss = cnn_criterion(outputs, labels)\n",
        "\n",
        "        # Backward pass and optimize\n",
        "        loss.backward()\n",
        "        cnn_optimizer.step()\n",
        "\n",
        "        running_loss += loss.item() * inputs.size(0)\n",
        "\n",
        "    # Calculate average loss over an epoch\n",
        "    epoch_loss = running_loss / len(train_dataloader.dataset)\n",
        "    cnn_train_losses.append(epoch_loss)\n",
        "\n",
        "    # Evaluate on test data\n",
        "    cnn_model.eval()\n",
        "    correct = 0\n",
        "    total = 0\n",
        "    epoch_labels_cnn = []\n",
        "    epoch_predictions_cnn = []\n",
        "    with torch.no_grad():\n",
        "        for inputs, labels in test_dataloader:\n",
        "            inputs = inputs.permute(0, 2, 1)\n",
        "\n",
        "            outputs = cnn_model(inputs)\n",
        "            _, predicted = torch.max(outputs.data, 1)\n",
        "            total += labels.size(0)\n",
        "            correct += (predicted == labels).sum().item()\n",
        "            epoch_labels_cnn.extend(labels.cpu().numpy())\n",
        "            epoch_predictions_cnn.extend(predicted.cpu().numpy())\n",
        "\n",
        "    accuracy = 100 * correct / total\n",
        "    cnn_test_accuracies.append(accuracy)\n",
        "    # Store labels/predictions from the *last* epoch for final evaluation\n",
        "    if epoch == num_epochs_cnn - 1:\n",
        "        cnn_all_labels = np.array(epoch_labels_cnn)\n",
        "        cnn_all_predictions = np.array(epoch_predictions_cnn)\n",
        "\n",
        "    print(f\"CNN Epoch {epoch + 1}/{num_epochs_cnn}, Loss: {epoch_loss:.4f}, Accuracy: {accuracy:.2f}%\")\n",
        "\n",
        "print(\"CNN Training complete.\")"
      ]
    },
    {
      "cell_type": "code",
      "source": [
        "# --- CNN Evaluation ---\n",
        "# Calculate metrics for CNN\n",
        "cnn_conf_matrix = confusion_matrix(cnn_all_labels, cnn_all_predictions)\n",
        "cnn_f1 = f1_score(cnn_all_labels, cnn_all_predictions, average='weighted')\n",
        "cnn_precision = precision_score(cnn_all_labels, cnn_all_predictions, average='weighted')\n",
        "cnn_recall = recall_score(cnn_all_labels, cnn_all_predictions, average='weighted')\n",
        "\n",
        "# Calculate specificity for CNN\n",
        "cnn_tn, cnn_fp, cnn_fn, cnn_tp = cnn_conf_matrix.ravel()\n",
        "cnn_specificity = cnn_tn / (cnn_tn + cnn_fp) if (cnn_tn + cnn_fp) > 0 else 0\n",
        "\n",
        "# Print metrics for CNN\n",
        "print(\"\\n--- CNN Evaluation Results ---\")\n",
        "print(f'Confusion Matrix:\\n{cnn_conf_matrix}')\n",
        "print(f'F1 Score: {cnn_f1:.2f}')\n",
        "print(f'Precision: {cnn_precision:.2f}')\n",
        "print(f'Recall (Sensitivity): {cnn_recall:.2f}')\n",
        "print(f'Specificity: {cnn_specificity:.2f}')\n",
        "\n",
        "# Plot the loss and accuracy for CNN\n",
        "plt.figure(figsize=(12, 5))\n",
        "\n",
        "# Plot loss\n",
        "plt.subplot(1, 2, 1)\n",
        "plt.plot(cnn_train_losses, label='Training Loss')\n",
        "plt.xlabel('Epoch')\n",
        "plt.ylabel('Loss')\n",
        "plt.title('CNN Training Loss Over Epochs')\n",
        "plt.legend()\n",
        "\n",
        "# Plot accuracy\n",
        "plt.subplot(1, 2, 2)\n",
        "plt.plot(cnn_test_accuracies, label='Test Accuracy')\n",
        "plt.xlabel('Epoch')\n",
        "plt.ylabel('Accuracy (%)')\n",
        "plt.title('CNN Test Accuracy Over Epochs')\n",
        "plt.legend()\n",
        "\n",
        "plt.tight_layout()\n",
        "plt.show()\n",
        "\n",
        "# Display Confusion Matrix for CNN\n",
        "cnn_disp = ConfusionMatrixDisplay(confusion_matrix=cnn_conf_matrix)\n",
        "cnn_disp.plot()\n",
        "plt.title('CNN Confusion Matrix')\n",
        "plt.show()"
      ],
      "metadata": {
        "colab": {
          "base_uri": "https://localhost:8080/",
          "height": 1000
        },
        "id": "zvvNx_wZu0es",
        "outputId": "5e0f2d54-4281-4d69-f1ec-fa0fe3a52be9"
      },
      "id": "zvvNx_wZu0es",
      "execution_count": null,
      "outputs": [
        {
          "output_type": "stream",
          "name": "stdout",
          "text": [
            "\n",
            "--- CNN Evaluation Results ---\n",
            "Confusion Matrix:\n",
            "[[55 45]\n",
            " [37 16]]\n",
            "F1 Score: 0.47\n",
            "Precision: 0.48\n",
            "Recall (Sensitivity): 0.46\n",
            "Specificity: 0.55\n"
          ]
        },
        {
          "output_type": "display_data",
          "data": {
            "text/plain": [
              "<Figure size 1200x500 with 2 Axes>"
            ],
            "image/png": "[encoded data removed]"
          },
          "metadata": {}
        },
        {
          "output_type": "display_data",
          "data": {
            "text/plain": [
              "<Figure size 800x600 with 2 Axes>"
            ],
            "image/png": "[encoded data removed]"
          },
          "metadata": {}
        }
      ]
    }
  ],
  "metadata": {
    "kernelspec": {
      "display_name": "Python 3 (ipykernel)",
      "language": "python",
      "name": "python3"
    },
    "language_info": {
      "codemirror_mode": {
        "name": "ipython",
        "version": 3
      },
      "file_extension": ".py",
      "mimetype": "text/x-python",
      "name": "python",
      "nbconvert_exporter": "python",
      "pygments_lexer": "ipython3",
      "version": "3.8.8"
    },
    "colab": {
      "provenance": [],
      "toc_visible": true
    }
  },
  "nbformat": 4,
  "nbformat_minor": 5
}