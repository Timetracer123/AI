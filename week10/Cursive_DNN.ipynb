{
  "cells": [
    {
      "cell_type": "markdown",
      "id": "e28ca605",
      "metadata": {
        "id": "e28ca605"
      },
      "source": [
        "## 1. 라이브러리 임포트"
      ]
    },
    {
      "cell_type": "code",
      "execution_count": 10,
      "id": "8c1fbf0f",
      "metadata": {
        "id": "8c1fbf0f"
      },
      "outputs": [],
      "source": [
        "import torch\n",
        "import torch.nn as nn\n",
        "import torch.optim as optim\n",
        "import torch.nn.functional as F\n",
        "from torch.utils.data import TensorDataset, DataLoader\n",
        "\n",
        "from sklearn import datasets\n",
        "from sklearn.model_selection import train_test_split\n",
        "from sklearn.metrics import classification_report, confusion_matrix, accuracy_score\n",
        "import numpy as np\n",
        "import matplotlib.pyplot as plt\n",
        "\n",
        "# Matplotlib 그래프를 노트북 내에 표시\n",
        "%matplotlib inline"
      ]
    },
    {
      "cell_type": "markdown",
      "id": "51bc5ed1",
      "metadata": {
        "id": "51bc5ed1"
      },
      "source": [
        "## 2. 장치 설정 (GPU 사용 가능시 GPU 사용)"
      ]
    },
    {
      "cell_type": "code",
      "execution_count": 11,
      "id": "717f7f63",
      "metadata": {
        "colab": {
          "base_uri": "https://localhost:8080/"
        },
        "id": "717f7f63",
        "outputId": "496a8f25-69df-4e6d-8d65-f323e13bd07a"
      },
      "outputs": [
        {
          "output_type": "stream",
          "name": "stdout",
          "text": [
            "Using device: cpu\n"
          ]
        }
      ],
      "source": [
        "device = torch.device(\"cuda\" if torch.cuda.is_available() else \"cpu\")\n",
        "print(f\"Using device: {device}\")"
      ]
    },
    {
      "cell_type": "markdown",
      "id": "fe03e101",
      "metadata": {
        "id": "fe03e101"
      },
      "source": [
        "## 3. 데이터 로드 및 전처리"
      ]
    },
    {
      "cell_type": "code",
      "execution_count": 12,
      "id": "458f50b1",
      "metadata": {
        "colab": {
          "base_uri": "https://localhost:8080/"
        },
        "id": "458f50b1",
        "outputId": "6df379ce-0bf7-4aec-ba4b-a858a16a5cfa"
      },
      "outputs": [
        {
          "output_type": "stream",
          "name": "stdout",
          "text": [
            "X_train_tensor shape: torch.Size([1437, 64])\n",
            "y_train_tensor shape: torch.Size([1437])\n",
            "X_test_tensor shape: torch.Size([360, 64])\n",
            "y_test_tensor shape: torch.Size([360])\n"
          ]
        }
      ],
      "source": [
        "# 데이터 로드\n",
        "digits = datasets.load_digits()\n",
        "n_samples = len(digits.images)\n",
        "data = digits.images.reshape((n_samples, -1))\n",
        "targets = digits.target\n",
        "\n",
        "# 데이터 스케일링 (0-16 범위의 픽셀 값을 0-1 범위로 정규화)\n",
        "data_scaled = data / 16.0\n",
        "\n",
        "# 데이터 분할 (학습 세트와 테스트 세트)\n",
        "X_train, X_test, y_train, y_test = train_test_split(\n",
        "    data_scaled, targets, test_size=0.2, random_state=42, stratify=targets\n",
        ")\n",
        "\n",
        "# NumPy 배열을 PyTorch 텐서로 변환\n",
        "X_train_tensor = torch.FloatTensor(X_train).to(device)\n",
        "y_train_tensor = torch.LongTensor(y_train).to(device) # CrossEntropyLoss는 클래스 인덱스를 기대\n",
        "X_test_tensor = torch.FloatTensor(X_test).to(device)\n",
        "y_test_tensor = torch.LongTensor(y_test).to(device)\n",
        "\n",
        "# TensorDataset 및 DataLoader 생성\n",
        "train_dataset = TensorDataset(X_train_tensor, y_train_tensor)\n",
        "test_dataset = TensorDataset(X_test_tensor, y_test_tensor)\n",
        "\n",
        "batch_size = 32\n",
        "train_loader = DataLoader(train_dataset, batch_size=batch_size, shuffle=True)\n",
        "test_loader = DataLoader(test_dataset, batch_size=batch_size, shuffle=False)\n",
        "\n",
        "print(f\"X_train_tensor shape: {X_train_tensor.shape}\")\n",
        "print(f\"y_train_tensor shape: {y_train_tensor.shape}\")\n",
        "print(f\"X_test_tensor shape: {X_test_tensor.shape}\")\n",
        "print(f\"y_test_tensor shape: {y_test_tensor.shape}\")"
      ]
    },
    {
      "cell_type": "markdown",
      "id": "62bda357",
      "metadata": {
        "id": "62bda357"
      },
      "source": [
        "## 4. DNN 모델 정의"
      ]
    },
    {
      "cell_type": "code",
      "execution_count": 13,
      "id": "8de284ea",
      "metadata": {
        "colab": {
          "base_uri": "https://localhost:8080/"
        },
        "id": "8de284ea",
        "outputId": "bce2f784-253b-4b1b-cb2a-7b80c8fe9dfd"
      },
      "outputs": [
        {
          "output_type": "stream",
          "name": "stdout",
          "text": [
            "DigitClassifierDNN(\n",
            "  (fc1): Linear(in_features=64, out_features=64, bias=True)\n",
            "  (fc2): Linear(in_features=64, out_features=32, bias=True)\n",
            "  (fc3): Linear(in_features=32, out_features=16, bias=True)\n",
            "  (fc4): Linear(in_features=16, out_features=10, bias=True)\n",
            ")\n"
          ]
        }
      ],
      "source": [
        "class DigitClassifierDNN(nn.Module):\n",
        "    def __init__(self, input_size=64, num_classes=10):\n",
        "        super(DigitClassifierDNN, self).__init__()\n",
        "        self.fc1 = nn.Linear(input_size, 64)\n",
        "        self.fc2 = nn.Linear(64, 32)\n",
        "        self.fc3 = nn.Linear(32, 16)\n",
        "        self.fc4 = nn.Linear(16, num_classes)\n",
        "\n",
        "    def forward(self, x):\n",
        "        x = F.relu(self.fc1(x))\n",
        "        x = F.relu(self.fc2(x))\n",
        "        x = F.relu(self.fc3(x))\n",
        "        x = self.fc4(x)\n",
        "        return x\n",
        "\n",
        "model = DigitClassifierDNN().to(device)\n",
        "print(model)"
      ]
    },
    {
      "cell_type": "markdown",
      "id": "ab69f46e",
      "metadata": {
        "id": "ab69f46e"
      },
      "source": [
        "## 5. 손실 함수 및 옵티마이저 정의"
      ]
    },
    {
      "cell_type": "code",
      "execution_count": 14,
      "id": "5b1f90e6",
      "metadata": {
        "id": "5b1f90e6"
      },
      "outputs": [],
      "source": [
        "criterion = nn.CrossEntropyLoss()\n",
        "optimizer = optim.Adam(model.parameters(), lr=0.001)"
      ]
    },
    {
      "cell_type": "markdown",
      "id": "e0fb74c3",
      "metadata": {
        "id": "e0fb74c3"
      },
      "source": [
        "## 6. 모델 학습"
      ]
    },
    {
      "cell_type": "code",
      "execution_count": 15,
      "id": "10e1c56e",
      "metadata": {
        "colab": {
          "base_uri": "https://localhost:8080/"
        },
        "id": "10e1c56e",
        "outputId": "35601a00-f2d1-4494-9dcb-4b2c817a0036"
      },
      "outputs": [
        {
          "output_type": "stream",
          "name": "stdout",
          "text": [
            "Epoch [1/50], Train Loss: 2.2878, Train Acc: 0.1698, Val Loss: 2.2405, Val Acc: 0.2667\n",
            "Epoch [2/50], Train Loss: 2.0734, Train Acc: 0.4280, Val Loss: 1.7962, Val Acc: 0.4972\n",
            "Epoch [3/50], Train Loss: 1.4662, Train Acc: 0.5887, Val Loss: 1.1579, Val Acc: 0.7000\n",
            "Epoch [4/50], Train Loss: 0.9673, Train Acc: 0.7439, Val Loss: 0.7833, Val Acc: 0.7917\n",
            "Epoch [5/50], Train Loss: 0.6646, Train Acc: 0.8253, Val Loss: 0.5446, Val Acc: 0.8500\n",
            "Epoch [6/50], Train Loss: 0.4974, Train Acc: 0.8608, Val Loss: 0.4386, Val Acc: 0.8556\n",
            "Epoch [7/50], Train Loss: 0.3935, Train Acc: 0.8803, Val Loss: 0.3601, Val Acc: 0.8833\n",
            "Epoch [8/50], Train Loss: 0.3383, Train Acc: 0.9026, Val Loss: 0.3286, Val Acc: 0.8833\n",
            "Epoch [9/50], Train Loss: 0.3011, Train Acc: 0.9116, Val Loss: 0.2819, Val Acc: 0.9167\n",
            "Epoch [10/50], Train Loss: 0.2653, Train Acc: 0.9241, Val Loss: 0.2589, Val Acc: 0.9194\n",
            "Epoch [11/50], Train Loss: 0.2446, Train Acc: 0.9311, Val Loss: 0.2421, Val Acc: 0.9167\n",
            "Epoch [12/50], Train Loss: 0.2203, Train Acc: 0.9422, Val Loss: 0.2146, Val Acc: 0.9278\n",
            "Epoch [13/50], Train Loss: 0.2157, Train Acc: 0.9402, Val Loss: 0.2223, Val Acc: 0.9222\n",
            "Epoch [14/50], Train Loss: 0.1952, Train Acc: 0.9443, Val Loss: 0.2197, Val Acc: 0.9222\n",
            "Epoch [15/50], Train Loss: 0.1781, Train Acc: 0.9520, Val Loss: 0.1844, Val Acc: 0.9333\n",
            "Epoch [16/50], Train Loss: 0.1735, Train Acc: 0.9499, Val Loss: 0.1844, Val Acc: 0.9417\n",
            "Epoch [17/50], Train Loss: 0.1649, Train Acc: 0.9506, Val Loss: 0.1849, Val Acc: 0.9417\n",
            "Epoch [18/50], Train Loss: 0.1544, Train Acc: 0.9541, Val Loss: 0.1723, Val Acc: 0.9444\n",
            "Epoch [19/50], Train Loss: 0.1477, Train Acc: 0.9569, Val Loss: 0.1758, Val Acc: 0.9361\n",
            "Epoch [20/50], Train Loss: 0.1465, Train Acc: 0.9562, Val Loss: 0.1652, Val Acc: 0.9389\n",
            "Epoch [21/50], Train Loss: 0.1320, Train Acc: 0.9603, Val Loss: 0.1795, Val Acc: 0.9444\n",
            "Epoch [22/50], Train Loss: 0.1291, Train Acc: 0.9617, Val Loss: 0.1526, Val Acc: 0.9583\n",
            "Epoch [23/50], Train Loss: 0.1259, Train Acc: 0.9666, Val Loss: 0.1501, Val Acc: 0.9500\n",
            "Epoch [24/50], Train Loss: 0.1130, Train Acc: 0.9701, Val Loss: 0.1357, Val Acc: 0.9528\n",
            "Epoch [25/50], Train Loss: 0.1099, Train Acc: 0.9694, Val Loss: 0.1441, Val Acc: 0.9639\n",
            "Epoch [26/50], Train Loss: 0.1027, Train Acc: 0.9715, Val Loss: 0.1424, Val Acc: 0.9528\n",
            "Epoch [27/50], Train Loss: 0.1039, Train Acc: 0.9687, Val Loss: 0.1359, Val Acc: 0.9639\n",
            "Epoch [28/50], Train Loss: 0.0982, Train Acc: 0.9743, Val Loss: 0.1319, Val Acc: 0.9528\n",
            "Epoch [29/50], Train Loss: 0.0996, Train Acc: 0.9694, Val Loss: 0.1386, Val Acc: 0.9472\n",
            "Epoch [30/50], Train Loss: 0.0917, Train Acc: 0.9729, Val Loss: 0.1302, Val Acc: 0.9583\n",
            "Epoch [31/50], Train Loss: 0.0888, Train Acc: 0.9770, Val Loss: 0.1345, Val Acc: 0.9556\n",
            "Epoch [32/50], Train Loss: 0.0895, Train Acc: 0.9722, Val Loss: 0.1287, Val Acc: 0.9611\n",
            "Epoch [33/50], Train Loss: 0.0881, Train Acc: 0.9715, Val Loss: 0.1436, Val Acc: 0.9583\n",
            "Epoch [34/50], Train Loss: 0.0851, Train Acc: 0.9756, Val Loss: 0.1252, Val Acc: 0.9556\n",
            "Epoch [35/50], Train Loss: 0.0794, Train Acc: 0.9756, Val Loss: 0.1331, Val Acc: 0.9528\n",
            "Epoch [36/50], Train Loss: 0.0724, Train Acc: 0.9847, Val Loss: 0.1261, Val Acc: 0.9472\n",
            "Epoch [37/50], Train Loss: 0.0796, Train Acc: 0.9736, Val Loss: 0.1220, Val Acc: 0.9667\n",
            "Epoch [38/50], Train Loss: 0.0745, Train Acc: 0.9805, Val Loss: 0.1177, Val Acc: 0.9528\n",
            "Epoch [39/50], Train Loss: 0.0707, Train Acc: 0.9812, Val Loss: 0.1211, Val Acc: 0.9583\n",
            "Epoch [40/50], Train Loss: 0.0662, Train Acc: 0.9819, Val Loss: 0.1108, Val Acc: 0.9611\n",
            "Epoch [41/50], Train Loss: 0.0635, Train Acc: 0.9861, Val Loss: 0.1161, Val Acc: 0.9639\n",
            "Epoch [42/50], Train Loss: 0.0578, Train Acc: 0.9840, Val Loss: 0.1167, Val Acc: 0.9611\n",
            "Epoch [43/50], Train Loss: 0.0578, Train Acc: 0.9854, Val Loss: 0.1295, Val Acc: 0.9583\n",
            "Epoch [44/50], Train Loss: 0.0569, Train Acc: 0.9861, Val Loss: 0.1078, Val Acc: 0.9639\n",
            "Epoch [45/50], Train Loss: 0.0590, Train Acc: 0.9847, Val Loss: 0.1325, Val Acc: 0.9556\n",
            "Epoch [46/50], Train Loss: 0.0558, Train Acc: 0.9854, Val Loss: 0.1189, Val Acc: 0.9528\n",
            "Epoch [47/50], Train Loss: 0.0500, Train Acc: 0.9875, Val Loss: 0.1158, Val Acc: 0.9528\n",
            "Epoch [48/50], Train Loss: 0.0492, Train Acc: 0.9875, Val Loss: 0.1188, Val Acc: 0.9583\n",
            "Epoch [49/50], Train Loss: 0.0476, Train Acc: 0.9889, Val Loss: 0.1093, Val Acc: 0.9556\n",
            "Epoch [50/50], Train Loss: 0.0460, Train Acc: 0.9916, Val Loss: 0.1180, Val Acc: 0.9583\n"
          ]
        }
      ],
      "source": [
        "num_epochs = 50\n",
        "train_losses = []\n",
        "val_losses = []\n",
        "train_accuracies = []\n",
        "val_accuracies = []\n",
        "\n",
        "for epoch in range(num_epochs):\n",
        "    model.train() # 학습 모드\n",
        "    running_loss = 0.0\n",
        "    correct_train = 0\n",
        "    total_train = 0\n",
        "\n",
        "    for inputs, labels in train_loader:\n",
        "        inputs, labels = inputs.to(device), labels.to(device)\n",
        "\n",
        "        optimizer.zero_grad() # 기울기 초기화\n",
        "        outputs = model(inputs) # 순전파\n",
        "        loss = criterion(outputs, labels) # 손실 계산\n",
        "        loss.backward() # 역전파\n",
        "        optimizer.step() # 가중치 업데이트\n",
        "\n",
        "        running_loss += loss.item() * inputs.size(0)\n",
        "        _, predicted = torch.max(outputs.data, 1)\n",
        "        total_train += labels.size(0)\n",
        "        correct_train += (predicted == labels).sum().item()\n",
        "\n",
        "    epoch_train_loss = running_loss / len(train_loader.dataset)\n",
        "    epoch_train_acc = correct_train / total_train\n",
        "    train_losses.append(epoch_train_loss)\n",
        "    train_accuracies.append(epoch_train_acc)\n",
        "\n",
        "    # 검증\n",
        "    model.eval() # 평가 모드\n",
        "    running_val_loss = 0.0\n",
        "    correct_val = 0\n",
        "    total_val = 0\n",
        "    with torch.no_grad(): # 기울기 계산 비활성화\n",
        "        for inputs, labels in test_loader:\n",
        "            inputs, labels = inputs.to(device), labels.to(device)\n",
        "            outputs = model(inputs)\n",
        "            loss = criterion(outputs, labels)\n",
        "            running_val_loss += loss.item() * inputs.size(0)\n",
        "            _, predicted = torch.max(outputs.data, 1)\n",
        "            total_val += labels.size(0)\n",
        "            correct_val += (predicted == labels).sum().item()\n",
        "\n",
        "    epoch_val_loss = running_val_loss / len(test_loader.dataset)\n",
        "    epoch_val_acc = correct_val / total_val\n",
        "    val_losses.append(epoch_val_loss)\n",
        "    val_accuracies.append(epoch_val_acc)\n",
        "\n",
        "    print(f\"Epoch [{epoch+1}/{num_epochs}], \"\n",
        "          f\"Train Loss: {epoch_train_loss:.4f}, Train Acc: {epoch_train_acc:.4f}, \"\n",
        "          f\"Val Loss: {epoch_val_loss:.4f}, Val Acc: {epoch_val_acc:.4f}\")"
      ]
    },
    {
      "cell_type": "markdown",
      "id": "8124165f",
      "metadata": {
        "id": "8124165f"
      },
      "source": [
        "## 7. 학습 과정 시각화"
      ]
    },
    {
      "cell_type": "code",
      "execution_count": 16,
      "id": "b7235bae",
      "metadata": {
        "colab": {
          "base_uri": "https://localhost:8080/",
          "height": 407
        },
        "id": "b7235bae",
        "outputId": "93e9bddf-767e-4138-f168-a1b7cef73776"
      },
      "outputs": [
        {
          "output_type": "display_data",
          "data": {
            "text/plain": [
              "<Figure size 1200x400 with 2 Axes>"
            ],
            "image/png": "[encoded data removed]"
          },
          "metadata": {}
        }
      ],
      "source": [
        "epochs_range = range(1, num_epochs + 1)\n",
        "\n",
        "plt.figure(figsize=(12, 4))\n",
        "\n",
        "plt.subplot(1, 2, 1)\n",
        "plt.plot(epochs_range, train_losses, 'y', label='Training loss')\n",
        "plt.plot(epochs_range, val_losses, 'r', label='Validation loss')\n",
        "plt.title('Training and validation loss')\n",
        "plt.xlabel('Epochs')\n",
        "plt.ylabel('Loss')\n",
        "plt.legend()\n",
        "\n",
        "plt.subplot(1, 2, 2)\n",
        "plt.plot(epochs_range, train_accuracies, 'y', label='Training acc')\n",
        "plt.plot(epochs_range, val_accuracies, 'r', label='Validation acc')\n",
        "plt.title('Training and validation accuracy')\n",
        "plt.xlabel('Epochs')\n",
        "plt.ylabel('Accuracy')\n",
        "plt.legend()\n",
        "\n",
        "plt.tight_layout()\n",
        "plt.show()"
      ]
    },
    {
      "cell_type": "markdown",
      "id": "b98f9b5f",
      "metadata": {
        "id": "b98f9b5f"
      },
      "source": [
        "## 8. 모델 평가"
      ]
    },
    {
      "cell_type": "code",
      "execution_count": 17,
      "id": "0f816a95",
      "metadata": {
        "colab": {
          "base_uri": "https://localhost:8080/"
        },
        "id": "0f816a95",
        "outputId": "74edc926-5d31-4824-da5a-755e10b19027"
      },
      "outputs": [
        {
          "output_type": "stream",
          "name": "stdout",
          "text": [
            "Classification Report:\n",
            "              precision    recall  f1-score   support\n",
            "\n",
            "           0       1.00      0.94      0.97        36\n",
            "           1       0.89      0.89      0.89        36\n",
            "           2       1.00      1.00      1.00        35\n",
            "           3       1.00      0.97      0.99        37\n",
            "           4       0.95      1.00      0.97        36\n",
            "           5       0.95      1.00      0.97        37\n",
            "           6       0.92      0.97      0.95        36\n",
            "           7       0.97      0.94      0.96        36\n",
            "           8       0.91      0.91      0.91        35\n",
            "           9       1.00      0.94      0.97        36\n",
            "\n",
            "    accuracy                           0.96       360\n",
            "   macro avg       0.96      0.96      0.96       360\n",
            "weighted avg       0.96      0.96      0.96       360\n",
            "\n",
            "Confusion Matrix:\n",
            "[[34  0  0  0  1  0  1  0  0  0]\n",
            " [ 0 32  0  0  0  0  2  0  2  0]\n",
            " [ 0  0 35  0  0  0  0  0  0  0]\n",
            " [ 0  0  0 36  0  1  0  0  0  0]\n",
            " [ 0  0  0  0 36  0  0  0  0  0]\n",
            " [ 0  0  0  0  0 37  0  0  0  0]\n",
            " [ 0  0  0  0  0  0 35  0  1  0]\n",
            " [ 0  1  0  0  1  0  0 34  0  0]\n",
            " [ 0  3  0  0  0  0  0  0 32  0]\n",
            " [ 0  0  0  0  0  1  0  1  0 34]]\n",
            "Final Test Accuracy: 0.9583\n"
          ]
        }
      ],
      "source": [
        "model.eval() # 평가 모드\n",
        "y_pred_list = []\n",
        "y_true_list = []\n",
        "\n",
        "with torch.no_grad():\n",
        "    for inputs, labels in test_loader:\n",
        "        inputs, labels = inputs.to(device), labels.to(device)\n",
        "        outputs = model(inputs)\n",
        "        _, predicted = torch.max(outputs, 1)\n",
        "        y_pred_list.extend(predicted.cpu().numpy()) # CPU로 옮기고 NumPy 배열로 변환\n",
        "        y_true_list.extend(labels.cpu().numpy())\n",
        "\n",
        "# y_true_list는 이미 y_test와 동일 (test_loader에서 순서대로 가져왔으므로)\n",
        "# 또는 y_test (NumPy 배열)를 직접 사용해도 됨\n",
        "print(\"Classification Report:\")\n",
        "print(classification_report(y_test, y_pred_list))\n",
        "\n",
        "print(\"Confusion Matrix:\")\n",
        "print(confusion_matrix(y_test, y_pred_list))\n",
        "\n",
        "final_accuracy = accuracy_score(y_test, y_pred_list)\n",
        "print(f\"Final Test Accuracy: {final_accuracy:.4f}\")"
      ]
    },
    {
      "cell_type": "markdown",
      "id": "29252af4",
      "metadata": {
        "id": "29252af4"
      },
      "source": [
        "## 9. 단일 이미지 예측 및 시각화"
      ]
    },
    {
      "cell_type": "code",
      "execution_count": 18,
      "id": "3c73e734",
      "metadata": {
        "colab": {
          "base_uri": "https://localhost:8080/",
          "height": 469
        },
        "id": "3c73e734",
        "outputId": "a5d302b9-9e62-497a-f8ea-1dd984b15f03"
      },
      "outputs": [
        {
          "output_type": "display_data",
          "data": {
            "text/plain": [
              "<Figure size 640x480 with 1 Axes>"
            ],
            "image/png": "[encoded data removed]"
          },
          "metadata": {}
        },
        {
          "output_type": "stream",
          "name": "stdout",
          "text": [
            "Predicted Label: 0\n"
          ]
        }
      ],
      "source": [
        "sample_idx = 10\n",
        "img_data = X_test[sample_idx]\n",
        "true_label = y_test[sample_idx]\n",
        "\n",
        "img_to_show = img_data.reshape(8, 8) * 16.0\n",
        "\n",
        "plt.imshow(img_to_show, cmap=plt.cm.gray_r, interpolation='nearest')\n",
        "plt.title(f\"True Label: {true_label}\")\n",
        "plt.show()\n",
        "\n",
        "# 모델 예측\n",
        "model.eval()\n",
        "with torch.no_grad():\n",
        "    single_img_tensor = X_test_tensor[sample_idx].unsqueeze(0) # (1, 64)\n",
        "    output = model(single_img_tensor)\n",
        "    _, predicted_label = torch.max(output, 1)\n",
        "\n",
        "print(f\"Predicted Label: {predicted_label.item()}\")"
      ]
    }
  ],
  "metadata": {
    "kernelspec": {
      "display_name": "Python 3 (ipykernel)",
      "language": "python",
      "name": "python3"
    },
    "language_info": {
      "codemirror_mode": {
        "name": "ipython",
        "version": 3
      },
      "file_extension": ".py",
      "mimetype": "text/x-python",
      "name": "python",
      "nbconvert_exporter": "python",
      "pygments_lexer": "ipython3",
      "version": "3.9.7"
    },
    "colab": {
      "provenance": [],
      "toc_visible": true
    }
  },
  "nbformat": 4,
  "nbformat_minor": 5
}